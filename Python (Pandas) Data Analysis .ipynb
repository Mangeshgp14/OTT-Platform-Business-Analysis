{
 "cells": [
  {
   "cell_type": "code",
   "execution_count": 1,
   "id": "47890b57",
   "metadata": {},
   "outputs": [],
   "source": [
    "import pandas as pd"
   ]
  },
  {
   "cell_type": "code",
   "execution_count": 2,
   "id": "f5cbe46e",
   "metadata": {},
   "outputs": [],
   "source": [
    "import matplotlib.pyplot as plt\n",
    "import seaborn as sns\n"
   ]
  },
  {
   "cell_type": "code",
   "execution_count": 3,
   "id": "ba51a4b7",
   "metadata": {},
   "outputs": [],
   "source": [
    "df = pd.read_csv(r'C:\\Users\\Mangesh\\Desktop\\1 month\\Projects\\OTT Platform Business Analysis\\Dataset\\cleaned_dataset.csv')"
   ]
  },
  {
   "cell_type": "code",
   "execution_count": 4,
   "id": "7ffbd68c",
   "metadata": {},
   "outputs": [
    {
     "data": {
      "text/html": [
       "<div>\n",
       "<style scoped>\n",
       "    .dataframe tbody tr th:only-of-type {\n",
       "        vertical-align: middle;\n",
       "    }\n",
       "\n",
       "    .dataframe tbody tr th {\n",
       "        vertical-align: top;\n",
       "    }\n",
       "\n",
       "    .dataframe thead th {\n",
       "        text-align: right;\n",
       "    }\n",
       "</style>\n",
       "<table border=\"1\" class=\"dataframe\">\n",
       "  <thead>\n",
       "    <tr style=\"text-align: right;\">\n",
       "      <th></th>\n",
       "      <th>title</th>\n",
       "      <th>type</th>\n",
       "      <th>description</th>\n",
       "      <th>release_year</th>\n",
       "      <th>age_certification</th>\n",
       "      <th>runtime</th>\n",
       "      <th>genres</th>\n",
       "      <th>production_countries</th>\n",
       "      <th>seasons</th>\n",
       "      <th>imdb_score</th>\n",
       "      <th>imdb_votes</th>\n",
       "      <th>tmdb_popularity</th>\n",
       "      <th>tmdb_score</th>\n",
       "    </tr>\n",
       "  </thead>\n",
       "  <tbody>\n",
       "    <tr>\n",
       "      <th>0</th>\n",
       "      <td>The Three Stooges</td>\n",
       "      <td>SHOW</td>\n",
       "      <td>The Three Stooges were an American vaudeville ...</td>\n",
       "      <td>1934</td>\n",
       "      <td>TV-PG</td>\n",
       "      <td>19</td>\n",
       "      <td>['comedy', 'family', 'animation', 'action', 'f...</td>\n",
       "      <td>['US']</td>\n",
       "      <td>26.0</td>\n",
       "      <td>8.6</td>\n",
       "      <td>1092.0</td>\n",
       "      <td>15.424</td>\n",
       "      <td>7.6</td>\n",
       "    </tr>\n",
       "    <tr>\n",
       "      <th>1</th>\n",
       "      <td>The General</td>\n",
       "      <td>MOVIE</td>\n",
       "      <td>During America’s Civil War, Union spies steal ...</td>\n",
       "      <td>1926</td>\n",
       "      <td>TV-G</td>\n",
       "      <td>78</td>\n",
       "      <td>['action', 'drama', 'war', 'western', 'comedy'...</td>\n",
       "      <td>['US']</td>\n",
       "      <td>Not Applicable</td>\n",
       "      <td>8.2</td>\n",
       "      <td>89766.0</td>\n",
       "      <td>8.647</td>\n",
       "      <td>8.0</td>\n",
       "    </tr>\n",
       "    <tr>\n",
       "      <th>2</th>\n",
       "      <td>The Best Years of Our Lives</td>\n",
       "      <td>MOVIE</td>\n",
       "      <td>It's the hope that sustains the spirit of ever...</td>\n",
       "      <td>1946</td>\n",
       "      <td>TV-G</td>\n",
       "      <td>171</td>\n",
       "      <td>['romance', 'war', 'drama']</td>\n",
       "      <td>['US']</td>\n",
       "      <td>Not Applicable</td>\n",
       "      <td>8.1</td>\n",
       "      <td>63026.0</td>\n",
       "      <td>8.435</td>\n",
       "      <td>7.8</td>\n",
       "    </tr>\n",
       "    <tr>\n",
       "      <th>3</th>\n",
       "      <td>His Girl Friday</td>\n",
       "      <td>MOVIE</td>\n",
       "      <td>Hildy, the journalist former wife of newspaper...</td>\n",
       "      <td>1940</td>\n",
       "      <td>TV-G</td>\n",
       "      <td>92</td>\n",
       "      <td>['comedy', 'drama', 'romance']</td>\n",
       "      <td>['US']</td>\n",
       "      <td>Not Applicable</td>\n",
       "      <td>7.8</td>\n",
       "      <td>57835.0</td>\n",
       "      <td>11.270</td>\n",
       "      <td>7.4</td>\n",
       "    </tr>\n",
       "    <tr>\n",
       "      <th>4</th>\n",
       "      <td>In a Lonely Place</td>\n",
       "      <td>MOVIE</td>\n",
       "      <td>An aspiring actress begins to suspect that her...</td>\n",
       "      <td>1950</td>\n",
       "      <td>TV-G</td>\n",
       "      <td>94</td>\n",
       "      <td>['thriller', 'drama', 'romance']</td>\n",
       "      <td>['US']</td>\n",
       "      <td>Not Applicable</td>\n",
       "      <td>7.9</td>\n",
       "      <td>30924.0</td>\n",
       "      <td>8.273</td>\n",
       "      <td>7.6</td>\n",
       "    </tr>\n",
       "  </tbody>\n",
       "</table>\n",
       "</div>"
      ],
      "text/plain": [
       "                         title   type  \\\n",
       "0            The Three Stooges   SHOW   \n",
       "1                  The General  MOVIE   \n",
       "2  The Best Years of Our Lives  MOVIE   \n",
       "3              His Girl Friday  MOVIE   \n",
       "4            In a Lonely Place  MOVIE   \n",
       "\n",
       "                                         description  release_year  \\\n",
       "0  The Three Stooges were an American vaudeville ...          1934   \n",
       "1  During America’s Civil War, Union spies steal ...          1926   \n",
       "2  It's the hope that sustains the spirit of ever...          1946   \n",
       "3  Hildy, the journalist former wife of newspaper...          1940   \n",
       "4  An aspiring actress begins to suspect that her...          1950   \n",
       "\n",
       "  age_certification  runtime  \\\n",
       "0             TV-PG       19   \n",
       "1              TV-G       78   \n",
       "2              TV-G      171   \n",
       "3              TV-G       92   \n",
       "4              TV-G       94   \n",
       "\n",
       "                                              genres production_countries  \\\n",
       "0  ['comedy', 'family', 'animation', 'action', 'f...               ['US']   \n",
       "1  ['action', 'drama', 'war', 'western', 'comedy'...               ['US']   \n",
       "2                        ['romance', 'war', 'drama']               ['US']   \n",
       "3                     ['comedy', 'drama', 'romance']               ['US']   \n",
       "4                   ['thriller', 'drama', 'romance']               ['US']   \n",
       "\n",
       "          seasons  imdb_score  imdb_votes  tmdb_popularity  tmdb_score  \n",
       "0            26.0         8.6      1092.0           15.424         7.6  \n",
       "1  Not Applicable         8.2     89766.0            8.647         8.0  \n",
       "2  Not Applicable         8.1     63026.0            8.435         7.8  \n",
       "3  Not Applicable         7.8     57835.0           11.270         7.4  \n",
       "4  Not Applicable         7.9     30924.0            8.273         7.6  "
      ]
     },
     "execution_count": 4,
     "metadata": {},
     "output_type": "execute_result"
    }
   ],
   "source": [
    "df.head()"
   ]
  },
  {
   "cell_type": "code",
   "execution_count": 5,
   "id": "7b620d46",
   "metadata": {},
   "outputs": [
    {
     "data": {
      "text/plain": [
       "Index(['title', 'type', 'description', 'release_year', 'age_certification',\n",
       "       'runtime', 'genres', 'production_countries', 'seasons', 'imdb_score',\n",
       "       'imdb_votes', 'tmdb_popularity', 'tmdb_score'],\n",
       "      dtype='object')"
      ]
     },
     "execution_count": 5,
     "metadata": {},
     "output_type": "execute_result"
    }
   ],
   "source": [
    "df.columns"
   ]
  },
  {
   "cell_type": "markdown",
   "id": "38a7b4c4",
   "metadata": {},
   "source": [
    "# 1. Identifying the different types of content available on the platform. "
   ]
  },
  {
   "cell_type": "markdown",
   "id": "00579f34",
   "metadata": {},
   "source": [
    "1.1 Movies v/s Shows"
   ]
  },
  {
   "cell_type": "code",
   "execution_count": 6,
   "id": "5ca26c08",
   "metadata": {},
   "outputs": [],
   "source": [
    "dfgrp1 = df.groupby(['type']).nunique().reset_index()"
   ]
  },
  {
   "cell_type": "code",
   "execution_count": 7,
   "id": "7ed9d961",
   "metadata": {},
   "outputs": [
    {
     "data": {
      "text/html": [
       "<div>\n",
       "<style scoped>\n",
       "    .dataframe tbody tr th:only-of-type {\n",
       "        vertical-align: middle;\n",
       "    }\n",
       "\n",
       "    .dataframe tbody tr th {\n",
       "        vertical-align: top;\n",
       "    }\n",
       "\n",
       "    .dataframe thead th {\n",
       "        text-align: right;\n",
       "    }\n",
       "</style>\n",
       "<table border=\"1\" class=\"dataframe\">\n",
       "  <thead>\n",
       "    <tr style=\"text-align: right;\">\n",
       "      <th></th>\n",
       "      <th>type</th>\n",
       "      <th>title</th>\n",
       "    </tr>\n",
       "  </thead>\n",
       "  <tbody>\n",
       "    <tr>\n",
       "      <th>0</th>\n",
       "      <td>MOVIE</td>\n",
       "      <td>8418</td>\n",
       "    </tr>\n",
       "    <tr>\n",
       "      <th>1</th>\n",
       "      <td>SHOW</td>\n",
       "      <td>1355</td>\n",
       "    </tr>\n",
       "  </tbody>\n",
       "</table>\n",
       "</div>"
      ],
      "text/plain": [
       "    type  title\n",
       "0  MOVIE   8418\n",
       "1   SHOW   1355"
      ]
     },
     "execution_count": 7,
     "metadata": {},
     "output_type": "execute_result"
    }
   ],
   "source": [
    "dfgrp1[['type', 'title']]"
   ]
  },
  {
   "cell_type": "code",
   "execution_count": 8,
   "id": "713092fb",
   "metadata": {},
   "outputs": [],
   "source": [
    "dfgrp1['title'] = dfgrp1['title'].astype('float')"
   ]
  },
  {
   "cell_type": "code",
   "execution_count": 9,
   "id": "32ffefc9",
   "metadata": {},
   "outputs": [
    {
     "data": {
      "image/png": "[encoded data removed]",
      "text/plain": [
       "<Figure size 432x288 with 1 Axes>"
      ]
     },
     "metadata": {},
     "output_type": "display_data"
    }
   ],
   "source": [
    "plt.pie(dfgrp1['title'],labels = dfgrp1['type'] , autopct = '%1.0f%%', startangle = 90)\n",
    "plt.show()"
   ]
  },
  {
   "cell_type": "code",
   "execution_count": 10,
   "id": "b26dd4b9",
   "metadata": {},
   "outputs": [
    {
     "name": "stdout",
     "output_type": "stream",
     "text": [
      "<class 'pandas.core.frame.DataFrame'>\n",
      "RangeIndex: 9868 entries, 0 to 9867\n",
      "Data columns (total 13 columns):\n",
      " #   Column                Non-Null Count  Dtype  \n",
      "---  ------                --------------  -----  \n",
      " 0   title                 9868 non-null   object \n",
      " 1   type                  9868 non-null   object \n",
      " 2   description           9868 non-null   object \n",
      " 3   release_year          9868 non-null   int64  \n",
      " 4   age_certification     9868 non-null   object \n",
      " 5   runtime               9868 non-null   int64  \n",
      " 6   genres                9868 non-null   object \n",
      " 7   production_countries  9868 non-null   object \n",
      " 8   seasons               9868 non-null   object \n",
      " 9   imdb_score            9868 non-null   float64\n",
      " 10  imdb_votes            9868 non-null   float64\n",
      " 11  tmdb_popularity       9868 non-null   float64\n",
      " 12  tmdb_score            9868 non-null   float64\n",
      "dtypes: float64(4), int64(2), object(7)\n",
      "memory usage: 1002.3+ KB\n"
     ]
    }
   ],
   "source": [
    "df.info()"
   ]
  },
  {
   "cell_type": "markdown",
   "id": "89684366",
   "metadata": {},
   "source": [
    "1.2 Production Countries"
   ]
  },
  {
   "cell_type": "markdown",
   "id": "f154ef8e",
   "metadata": {},
   "source": [
    "1.2.1 For Movies + Shows"
   ]
  },
  {
   "cell_type": "code",
   "execution_count": 11,
   "id": "a88e2d00",
   "metadata": {},
   "outputs": [],
   "source": [
    "df_pc_grp = df.groupby('production_countries')\n",
    "df_pc_grp = df_pc_grp[['title']].nunique().reset_index()\n",
    "df_pc_grp = df_pc_grp.sort_values('title', ascending = False).iloc[0:5]"
   ]
  },
  {
   "cell_type": "code",
   "execution_count": 12,
   "id": "496d0a3c",
   "metadata": {},
   "outputs": [
    {
     "data": {
      "image/png": "[encoded data removed]",
      "text/plain": [
       "<Figure size 432x288 with 1 Axes>"
      ]
     },
     "metadata": {
      "needs_background": "light"
     },
     "output_type": "display_data"
    }
   ],
   "source": [
    "plt.bar(x = df_pc_grp['production_countries'] , height = df_pc_grp['title'])\n",
    "plt.xticks(rotation = 90)\n",
    "plt.xlabel('production countries')\n",
    "plt.ylabel('no. of titles')\n",
    "plt.show()"
   ]
  },
  {
   "cell_type": "markdown",
   "id": "a067a7aa",
   "metadata": {},
   "source": [
    "1.2.2 For Movies"
   ]
  },
  {
   "cell_type": "code",
   "execution_count": 13,
   "id": "da9407f8",
   "metadata": {},
   "outputs": [],
   "source": [
    "df_movies = df[df['type'] == 'MOVIE']\n",
    "df_movies_pc_grp = df_movies.groupby('production_countries')\n",
    "df_movies_pc_grp = df_movies_pc_grp[['title']].nunique().reset_index()\n",
    "df_movies_pc_grp = df_movies_pc_grp.sort_values('title', ascending = False).iloc[0:5]\n"
   ]
  },
  {
   "cell_type": "code",
   "execution_count": 14,
   "id": "b5e75ba0",
   "metadata": {},
   "outputs": [
    {
     "data": {
      "image/png": "[encoded data removed]",
      "text/plain": [
       "<Figure size 432x288 with 1 Axes>"
      ]
     },
     "metadata": {
      "needs_background": "light"
     },
     "output_type": "display_data"
    }
   ],
   "source": [
    "plt.bar(x = df_movies_pc_grp['production_countries'] , height = df_movies_pc_grp['title'])\n",
    "plt.xlabel('Production Countries')\n",
    "plt.ylabel('no. of movies')\n",
    "plt.show()"
   ]
  },
  {
   "cell_type": "code",
   "execution_count": 15,
   "id": "9169fe7d",
   "metadata": {},
   "outputs": [],
   "source": [
    "df_shows = df[df['type'] == 'SHOW']\n",
    "df_shows_pc_grp = df_shows.groupby('production_countries')\n",
    "df_shows_pc_grp = df_shows_pc_grp[['title']].nunique().reset_index()\n",
    "df_shows_pc_grp = df_shows_pc_grp.sort_values('title', ascending = False).iloc[0:5]\n"
   ]
  },
  {
   "cell_type": "code",
   "execution_count": 16,
   "id": "0ae312b8",
   "metadata": {},
   "outputs": [
    {
     "data": {
      "image/png": "[encoded data removed]",
      "text/plain": [
       "<Figure size 432x288 with 1 Axes>"
      ]
     },
     "metadata": {
      "needs_background": "light"
     },
     "output_type": "display_data"
    }
   ],
   "source": [
    "plt.bar(x = df_shows_pc_grp['production_countries'] , height = df_shows_pc_grp['title'])\n",
    "plt.xlabel('Production Countries')\n",
    "plt.ylabel('no. of shows')\n",
    "plt.show()"
   ]
  },
  {
   "cell_type": "markdown",
   "id": "ba33dc94",
   "metadata": {},
   "source": [
    "1.3 Genres"
   ]
  },
  {
   "cell_type": "markdown",
   "id": "19f28e31",
   "metadata": {},
   "source": [
    "1.3.1. Movies + Shows"
   ]
  },
  {
   "cell_type": "code",
   "execution_count": 17,
   "id": "9fb5d9fd",
   "metadata": {},
   "outputs": [],
   "source": [
    "df_genre_grp = df.groupby('genres')\n",
    "df_genre_grp = df_genre_grp[['title']].nunique().reset_index()\n",
    "df_genre_grp = df_genre_grp.sort_values('title', ascending = False).iloc[0:5]"
   ]
  },
  {
   "cell_type": "code",
   "execution_count": 18,
   "id": "6fc57767",
   "metadata": {},
   "outputs": [
    {
     "data": {
      "image/png": "[encoded data removed]",
      "text/plain": [
       "<Figure size 432x288 with 1 Axes>"
      ]
     },
     "metadata": {
      "needs_background": "light"
     },
     "output_type": "display_data"
    }
   ],
   "source": [
    "plt.bar(x = df_genre_grp['genres'] , height = df_genre_grp['title'])\n",
    "plt.xticks(rotation = 90)\n",
    "plt.xlabel('genres')\n",
    "plt.ylabel('no. of titles')\n",
    "plt.show()"
   ]
  },
  {
   "cell_type": "markdown",
   "id": "682742bf",
   "metadata": {},
   "source": [
    "1.3.2. Movies"
   ]
  },
  {
   "cell_type": "code",
   "execution_count": 19,
   "id": "19441c59",
   "metadata": {},
   "outputs": [],
   "source": [
    "df_movies_genre_grp = df_movies.groupby('genres')\n",
    "df_movies_genre_grp = df_movies_genre_grp[['title']].nunique().reset_index()\n",
    "df_movies_genre_grp = df_movies_genre_grp.sort_values('title', ascending = False).iloc[0:5]"
   ]
  },
  {
   "cell_type": "code",
   "execution_count": 20,
   "id": "394f6d5e",
   "metadata": {},
   "outputs": [
    {
     "data": {
      "image/png": "[encoded data removed]",
      "text/plain": [
       "<Figure size 432x288 with 1 Axes>"
      ]
     },
     "metadata": {
      "needs_background": "light"
     },
     "output_type": "display_data"
    }
   ],
   "source": [
    "plt.bar(x = df_movies_genre_grp['genres'] , height = df_movies_genre_grp['title'])\n",
    "plt.xticks(rotation = 90)\n",
    "plt.xlabel('genres')\n",
    "plt.ylabel('no. of movies')\n",
    "plt.show()"
   ]
  },
  {
   "cell_type": "markdown",
   "id": "59849524",
   "metadata": {},
   "source": [
    "1.3.3. Shows"
   ]
  },
  {
   "cell_type": "code",
   "execution_count": 21,
   "id": "d34c8bca",
   "metadata": {},
   "outputs": [],
   "source": [
    "df_shows_genre_grp = df_shows.groupby('genres')\n",
    "df_shows_genre_grp = df_shows_genre_grp[['title']].nunique().reset_index()\n",
    "df_shows_genre_grp = df_shows_genre_grp.sort_values('title', ascending = False).iloc[0:5]"
   ]
  },
  {
   "cell_type": "code",
   "execution_count": 22,
   "id": "487acfa3",
   "metadata": {},
   "outputs": [
    {
     "data": {
      "image/png": "[encoded data removed]",
      "text/plain": [
       "<Figure size 432x288 with 1 Axes>"
      ]
     },
     "metadata": {
      "needs_background": "light"
     },
     "output_type": "display_data"
    }
   ],
   "source": [
    "plt.bar(x = df_shows_genre_grp['genres'] , height = df_shows_genre_grp['title'])\n",
    "plt.xticks(rotation = 90)\n",
    "plt.xlabel('genres')\n",
    "plt.ylabel('no. of shows')\n",
    "plt.show()"
   ]
  },
  {
   "cell_type": "markdown",
   "id": "4f36f976",
   "metadata": {},
   "source": [
    "1.4 Age Certifications"
   ]
  },
  {
   "cell_type": "markdown",
   "id": "ee8c215c",
   "metadata": {},
   "source": [
    "1.4.1 Movies + Shows"
   ]
  },
  {
   "cell_type": "code",
   "execution_count": 23,
   "id": "6e8a5e9a",
   "metadata": {},
   "outputs": [],
   "source": [
    "df_ac_grp = df.groupby('age_certification')\n",
    "df_ac_grp = df_ac_grp[['title']].nunique().reset_index()\n",
    "df_ac_grp = df_ac_grp.sort_values('title', ascending = False).iloc[0:5]"
   ]
  },
  {
   "cell_type": "code",
   "execution_count": 24,
   "id": "b67d7223",
   "metadata": {},
   "outputs": [
    {
     "data": {
      "image/png": "[encoded data removed]",
      "text/plain": [
       "<Figure size 432x288 with 1 Axes>"
      ]
     },
     "metadata": {
      "needs_background": "light"
     },
     "output_type": "display_data"
    }
   ],
   "source": [
    "plt.bar(x = df_ac_grp['age_certification'] , height = df_ac_grp['title'])\n",
    "plt.xticks(rotation = 90)\n",
    "plt.xlabel('age_certification')\n",
    "plt.ylabel('no. of titles')\n",
    "plt.show()"
   ]
  },
  {
   "cell_type": "markdown",
   "id": "717dd602",
   "metadata": {},
   "source": [
    "1.4.2. Movies"
   ]
  },
  {
   "cell_type": "code",
   "execution_count": 25,
   "id": "5f9df889",
   "metadata": {},
   "outputs": [],
   "source": [
    "df_movies_ac_grp = df_movies.groupby('age_certification')\n",
    "df_movies_ac_grp = df_movies_ac_grp[['title']].nunique().reset_index()\n",
    "df_movies_ac_grp = df_movies_ac_grp.sort_values('title', ascending = False).iloc[0:5]"
   ]
  },
  {
   "cell_type": "code",
   "execution_count": 26,
   "id": "05963f81",
   "metadata": {},
   "outputs": [
    {
     "data": {
      "image/png": "[encoded data removed]",
      "text/plain": [
       "<Figure size 432x288 with 1 Axes>"
      ]
     },
     "metadata": {
      "needs_background": "light"
     },
     "output_type": "display_data"
    }
   ],
   "source": [
    "plt.bar(x = df_movies_ac_grp['age_certification'] , height = df_movies_ac_grp['title'])\n",
    "plt.xticks(rotation = 90)\n",
    "plt.xlabel('age_certification')\n",
    "plt.ylabel('no. of movies')\n",
    "plt.show()"
   ]
  },
  {
   "cell_type": "markdown",
   "id": "1a11c585",
   "metadata": {},
   "source": [
    "1.4.3. Shows"
   ]
  },
  {
   "cell_type": "code",
   "execution_count": 27,
   "id": "43317b07",
   "metadata": {},
   "outputs": [],
   "source": [
    "df_shows_ac_grp = df_shows.groupby('age_certification')\n",
    "df_shows_ac_grp = df_shows_ac_grp[['title']].nunique().reset_index()\n",
    "df_shows_ac_grp = df_shows_ac_grp.sort_values('title', ascending = False).iloc[0:5]"
   ]
  },
  {
   "cell_type": "code",
   "execution_count": 28,
   "id": "ded10746",
   "metadata": {},
   "outputs": [
    {
     "data": {
      "image/png": "[encoded data removed]",
      "text/plain": [
       "<Figure size 432x288 with 1 Axes>"
      ]
     },
     "metadata": {
      "needs_background": "light"
     },
     "output_type": "display_data"
    }
   ],
   "source": [
    "plt.bar(x = df_shows_ac_grp['age_certification'] , height = df_shows_ac_grp['title'])\n",
    "plt.xticks(rotation = 90)\n",
    "plt.xlabel('age_certification')\n",
    "plt.ylabel('no. of shows')\n",
    "plt.show()"
   ]
  },
  {
   "cell_type": "markdown",
   "id": "12c34f68",
   "metadata": {},
   "source": [
    "# Study the popularity of different types of content around the world"
   ]
  },
  {
   "cell_type": "markdown",
   "id": "87e7a8da",
   "metadata": {},
   "source": [
    "1. Assessing the popularity of type of content"
   ]
  },
  {
   "cell_type": "code",
   "execution_count": 29,
   "id": "14ae7e7f",
   "metadata": {},
   "outputs": [],
   "source": [
    "dfgrp2 = df.groupby(['type'])"
   ]
  },
  {
   "cell_type": "code",
   "execution_count": 30,
   "id": "76027ffe",
   "metadata": {},
   "outputs": [],
   "source": [
    "dfgrp2 = dfgrp2[['imdb_score','tmdb_popularity','tmdb_score','imdb_votes']].mean().reset_index()"
   ]
  },
  {
   "cell_type": "code",
   "execution_count": 31,
   "id": "a6a5b080",
   "metadata": {},
   "outputs": [
    {
     "data": {
      "text/html": [
       "<div>\n",
       "<style scoped>\n",
       "    .dataframe tbody tr th:only-of-type {\n",
       "        vertical-align: middle;\n",
       "    }\n",
       "\n",
       "    .dataframe tbody tr th {\n",
       "        vertical-align: top;\n",
       "    }\n",
       "\n",
       "    .dataframe thead th {\n",
       "        text-align: right;\n",
       "    }\n",
       "</style>\n",
       "<table border=\"1\" class=\"dataframe\">\n",
       "  <thead>\n",
       "    <tr style=\"text-align: right;\">\n",
       "      <th></th>\n",
       "      <th>imdb_score</th>\n",
       "      <th>tmdb_popularity</th>\n",
       "      <th>tmdb_score</th>\n",
       "      <th>imdb_votes</th>\n",
       "    </tr>\n",
       "  </thead>\n",
       "  <tbody>\n",
       "    <tr>\n",
       "      <th>0</th>\n",
       "      <td>5.832147</td>\n",
       "      <td>5.604632</td>\n",
       "      <td>5.834038</td>\n",
       "      <td>7509.172953</td>\n",
       "    </tr>\n",
       "    <tr>\n",
       "      <th>1</th>\n",
       "      <td>6.975018</td>\n",
       "      <td>13.348922</td>\n",
       "      <td>6.949742</td>\n",
       "      <td>8845.383567</td>\n",
       "    </tr>\n",
       "  </tbody>\n",
       "</table>\n",
       "</div>"
      ],
      "text/plain": [
       "   imdb_score  tmdb_popularity  tmdb_score   imdb_votes\n",
       "0    5.832147         5.604632    5.834038  7509.172953\n",
       "1    6.975018        13.348922    6.949742  8845.383567"
      ]
     },
     "execution_count": 31,
     "metadata": {},
     "output_type": "execute_result"
    }
   ],
   "source": [
    "dfgrp2[['imdb_score','tmdb_popularity','tmdb_score','imdb_votes']]"
   ]
  },
  {
   "cell_type": "code",
   "execution_count": 32,
   "id": "4a7c9088",
   "metadata": {},
   "outputs": [
    {
     "data": {
      "text/plain": [
       "[]"
      ]
     },
     "execution_count": 32,
     "metadata": {},
     "output_type": "execute_result"
    },
    {
     "data": {
      "image/png": "[encoded data removed]",
      "text/plain": [
       "<Figure size 576x360 with 3 Axes>"
      ]
     },
     "metadata": {
      "needs_background": "light"
     },
     "output_type": "display_data"
    }
   ],
   "source": [
    "fig, ax = plt.subplots(1, 3, figsize=(8, 5), sharex=False, sharey=False)\n",
    "\n",
    "ax[0].bar(height = dfgrp2['imdb_score'] , x = dfgrp2['type'] )\n",
    "ax[1].bar(height = dfgrp2['tmdb_score'] , x = dfgrp2['type'] )\n",
    "ax[2].bar(height = dfgrp2['tmdb_popularity'] , x = dfgrp2['type'] )\n",
    "plt.plot()"
   ]
  },
  {
   "cell_type": "markdown",
   "id": "9a297565",
   "metadata": {},
   "source": [
    "2. Assessing Popularity of Genres"
   ]
  },
  {
   "cell_type": "markdown",
   "id": "675cc04b",
   "metadata": {},
   "source": [
    "2.1. For Movies + Shows"
   ]
  },
  {
   "cell_type": "code",
   "execution_count": 33,
   "id": "6a972ee6",
   "metadata": {},
   "outputs": [
    {
     "data": {
      "text/html": [
       "<div>\n",
       "<style scoped>\n",
       "    .dataframe tbody tr th:only-of-type {\n",
       "        vertical-align: middle;\n",
       "    }\n",
       "\n",
       "    .dataframe tbody tr th {\n",
       "        vertical-align: top;\n",
       "    }\n",
       "\n",
       "    .dataframe thead th {\n",
       "        text-align: right;\n",
       "    }\n",
       "</style>\n",
       "<table border=\"1\" class=\"dataframe\">\n",
       "  <thead>\n",
       "    <tr style=\"text-align: right;\">\n",
       "      <th></th>\n",
       "      <th>genres</th>\n",
       "      <th>imdb_votes</th>\n",
       "      <th>imdb_score</th>\n",
       "      <th>tmdb_popularity</th>\n",
       "    </tr>\n",
       "  </thead>\n",
       "  <tbody>\n",
       "    <tr>\n",
       "      <th>1532</th>\n",
       "      <td>['scifi', 'action', 'horror', 'thriller']</td>\n",
       "      <td>648063.0</td>\n",
       "      <td>7.0</td>\n",
       "      <td>121.595</td>\n",
       "    </tr>\n",
       "    <tr>\n",
       "      <th>100</th>\n",
       "      <td>['action', 'drama', 'war', 'history', 'romance...</td>\n",
       "      <td>508388.0</td>\n",
       "      <td>8.5</td>\n",
       "      <td>344.245</td>\n",
       "    </tr>\n",
       "    <tr>\n",
       "      <th>1837</th>\n",
       "      <td>['thriller', 'fantasy', 'scifi', 'action', 'eu...</td>\n",
       "      <td>463640.0</td>\n",
       "      <td>7.6</td>\n",
       "      <td>39.211</td>\n",
       "    </tr>\n",
       "    <tr>\n",
       "      <th>824</th>\n",
       "      <td>['drama', 'family', 'fantasy', 'romance', 'com...</td>\n",
       "      <td>444243.0</td>\n",
       "      <td>8.6</td>\n",
       "      <td>26.495</td>\n",
       "    </tr>\n",
       "    <tr>\n",
       "      <th>1812</th>\n",
       "      <td>['thriller', 'drama', 'scifi', 'european']</td>\n",
       "      <td>410474.0</td>\n",
       "      <td>7.3</td>\n",
       "      <td>30.819</td>\n",
       "    </tr>\n",
       "  </tbody>\n",
       "</table>\n",
       "</div>"
      ],
      "text/plain": [
       "                                                 genres  imdb_votes  \\\n",
       "1532          ['scifi', 'action', 'horror', 'thriller']    648063.0   \n",
       "100   ['action', 'drama', 'war', 'history', 'romance...    508388.0   \n",
       "1837  ['thriller', 'fantasy', 'scifi', 'action', 'eu...    463640.0   \n",
       "824   ['drama', 'family', 'fantasy', 'romance', 'com...    444243.0   \n",
       "1812         ['thriller', 'drama', 'scifi', 'european']    410474.0   \n",
       "\n",
       "      imdb_score  tmdb_popularity  \n",
       "1532         7.0          121.595  \n",
       "100          8.5          344.245  \n",
       "1837         7.6           39.211  \n",
       "824          8.6           26.495  \n",
       "1812         7.3           30.819  "
      ]
     },
     "execution_count": 33,
     "metadata": {},
     "output_type": "execute_result"
    }
   ],
   "source": [
    "df_genre_grp_rp = df.groupby('genres')\n",
    "df_genre_grp_rp = df_genre_grp_rp[['imdb_score','tmdb_popularity','tmdb_score', 'imdb_votes']].mean().reset_index()\n",
    "df_genre_grp_rp = df_genre_grp_rp.sort_values(by=['imdb_votes', 'imdb_score', 'tmdb_popularity'], ascending  = [False,False,False]).iloc[0:5]\n",
    "df_genre_grp_rp[['genres','imdb_votes','imdb_score','tmdb_popularity']]"
   ]
  },
  {
   "cell_type": "markdown",
   "id": "435e6ccf",
   "metadata": {},
   "source": [
    "2.2. For Movies"
   ]
  },
  {
   "cell_type": "code",
   "execution_count": 34,
   "id": "32ec6838",
   "metadata": {},
   "outputs": [
    {
     "data": {
      "text/html": [
       "<div>\n",
       "<style scoped>\n",
       "    .dataframe tbody tr th:only-of-type {\n",
       "        vertical-align: middle;\n",
       "    }\n",
       "\n",
       "    .dataframe tbody tr th {\n",
       "        vertical-align: top;\n",
       "    }\n",
       "\n",
       "    .dataframe thead th {\n",
       "        text-align: right;\n",
       "    }\n",
       "</style>\n",
       "<table border=\"1\" class=\"dataframe\">\n",
       "  <thead>\n",
       "    <tr style=\"text-align: right;\">\n",
       "      <th></th>\n",
       "      <th>genres</th>\n",
       "      <th>imdb_votes</th>\n",
       "      <th>imdb_score</th>\n",
       "      <th>tmdb_popularity</th>\n",
       "    </tr>\n",
       "  </thead>\n",
       "  <tbody>\n",
       "    <tr>\n",
       "      <th>1295</th>\n",
       "      <td>['scifi', 'action', 'horror', 'thriller']</td>\n",
       "      <td>648063.0</td>\n",
       "      <td>7.0</td>\n",
       "      <td>121.595</td>\n",
       "    </tr>\n",
       "    <tr>\n",
       "      <th>1542</th>\n",
       "      <td>['thriller', 'fantasy', 'scifi', 'action', 'eu...</td>\n",
       "      <td>463640.0</td>\n",
       "      <td>7.6</td>\n",
       "      <td>39.211</td>\n",
       "    </tr>\n",
       "    <tr>\n",
       "      <th>659</th>\n",
       "      <td>['drama', 'family', 'fantasy', 'romance', 'com...</td>\n",
       "      <td>444243.0</td>\n",
       "      <td>8.6</td>\n",
       "      <td>26.495</td>\n",
       "    </tr>\n",
       "    <tr>\n",
       "      <th>618</th>\n",
       "      <td>['drama', 'crime', 'thriller', 'european']</td>\n",
       "      <td>433096.0</td>\n",
       "      <td>7.8</td>\n",
       "      <td>15.621</td>\n",
       "    </tr>\n",
       "    <tr>\n",
       "      <th>1517</th>\n",
       "      <td>['thriller', 'drama', 'scifi', 'european']</td>\n",
       "      <td>410474.0</td>\n",
       "      <td>7.3</td>\n",
       "      <td>30.819</td>\n",
       "    </tr>\n",
       "  </tbody>\n",
       "</table>\n",
       "</div>"
      ],
      "text/plain": [
       "                                                 genres  imdb_votes  \\\n",
       "1295          ['scifi', 'action', 'horror', 'thriller']    648063.0   \n",
       "1542  ['thriller', 'fantasy', 'scifi', 'action', 'eu...    463640.0   \n",
       "659   ['drama', 'family', 'fantasy', 'romance', 'com...    444243.0   \n",
       "618          ['drama', 'crime', 'thriller', 'european']    433096.0   \n",
       "1517         ['thriller', 'drama', 'scifi', 'european']    410474.0   \n",
       "\n",
       "      imdb_score  tmdb_popularity  \n",
       "1295         7.0          121.595  \n",
       "1542         7.6           39.211  \n",
       "659          8.6           26.495  \n",
       "618          7.8           15.621  \n",
       "1517         7.3           30.819  "
      ]
     },
     "execution_count": 34,
     "metadata": {},
     "output_type": "execute_result"
    }
   ],
   "source": [
    "df_movies_genre_grp_rp = df_movies.groupby('genres')\n",
    "df_movies_genre_grp_rp = df_movies_genre_grp_rp[['imdb_score','tmdb_popularity','tmdb_score', 'imdb_votes']].mean().reset_index()\n",
    "df_movies_genre_grp_rp = df_movies_genre_grp_rp.sort_values(by=['imdb_votes', 'imdb_score', 'tmdb_popularity'], ascending  = [False,False,False]).iloc[0:5]\n",
    "df_movies_genre_grp_rp[['genres','imdb_votes','imdb_score','tmdb_popularity']]"
   ]
  },
  {
   "cell_type": "markdown",
   "id": "fb38c2ce",
   "metadata": {},
   "source": [
    "2.3. For shows"
   ]
  },
  {
   "cell_type": "code",
   "execution_count": 35,
   "id": "ba2560dd",
   "metadata": {},
   "outputs": [
    {
     "data": {
      "text/html": [
       "<div>\n",
       "<style scoped>\n",
       "    .dataframe tbody tr th:only-of-type {\n",
       "        vertical-align: middle;\n",
       "    }\n",
       "\n",
       "    .dataframe tbody tr th {\n",
       "        vertical-align: top;\n",
       "    }\n",
       "\n",
       "    .dataframe thead th {\n",
       "        text-align: right;\n",
       "    }\n",
       "</style>\n",
       "<table border=\"1\" class=\"dataframe\">\n",
       "  <thead>\n",
       "    <tr style=\"text-align: right;\">\n",
       "      <th></th>\n",
       "      <th>genres</th>\n",
       "      <th>imdb_votes</th>\n",
       "      <th>imdb_score</th>\n",
       "      <th>tmdb_popularity</th>\n",
       "    </tr>\n",
       "  </thead>\n",
       "  <tbody>\n",
       "    <tr>\n",
       "      <th>35</th>\n",
       "      <td>['action', 'drama', 'war', 'history', 'romance...</td>\n",
       "      <td>508388.0</td>\n",
       "      <td>8.5</td>\n",
       "      <td>344.245</td>\n",
       "    </tr>\n",
       "    <tr>\n",
       "      <th>130</th>\n",
       "      <td>['comedy', 'drama', 'crime']</td>\n",
       "      <td>404920.0</td>\n",
       "      <td>8.8</td>\n",
       "      <td>352.657</td>\n",
       "    </tr>\n",
       "    <tr>\n",
       "      <th>382</th>\n",
       "      <td>['scifi', 'action', 'crime', 'drama', 'comedy']</td>\n",
       "      <td>362539.0</td>\n",
       "      <td>8.7</td>\n",
       "      <td>250.632</td>\n",
       "    </tr>\n",
       "    <tr>\n",
       "      <th>428</th>\n",
       "      <td>['scifi', 'drama', 'thriller', 'crime', 'horror']</td>\n",
       "      <td>304893.0</td>\n",
       "      <td>8.0</td>\n",
       "      <td>149.195</td>\n",
       "    </tr>\n",
       "    <tr>\n",
       "      <th>422</th>\n",
       "      <td>['scifi', 'drama', 'fantasy', 'romance', 'acti...</td>\n",
       "      <td>142891.0</td>\n",
       "      <td>8.3</td>\n",
       "      <td>50.995</td>\n",
       "    </tr>\n",
       "  </tbody>\n",
       "</table>\n",
       "</div>"
      ],
      "text/plain": [
       "                                                genres  imdb_votes  \\\n",
       "35   ['action', 'drama', 'war', 'history', 'romance...    508388.0   \n",
       "130                       ['comedy', 'drama', 'crime']    404920.0   \n",
       "382    ['scifi', 'action', 'crime', 'drama', 'comedy']    362539.0   \n",
       "428  ['scifi', 'drama', 'thriller', 'crime', 'horror']    304893.0   \n",
       "422  ['scifi', 'drama', 'fantasy', 'romance', 'acti...    142891.0   \n",
       "\n",
       "     imdb_score  tmdb_popularity  \n",
       "35          8.5          344.245  \n",
       "130         8.8          352.657  \n",
       "382         8.7          250.632  \n",
       "428         8.0          149.195  \n",
       "422         8.3           50.995  "
      ]
     },
     "execution_count": 35,
     "metadata": {},
     "output_type": "execute_result"
    }
   ],
   "source": [
    "df_shows_genre_grp_rp = df_shows.groupby('genres')\n",
    "df_shows_genre_grp_rp = df_shows_genre_grp_rp[['imdb_score','tmdb_popularity','tmdb_score', 'imdb_votes']].mean().reset_index()\n",
    "df_shows_genre_grp_rp = df_shows_genre_grp_rp.sort_values(by=['imdb_votes', 'imdb_score', 'tmdb_popularity'], ascending  = [False,False,False]).iloc[0:5]\n",
    "df_shows_genre_grp_rp[['genres','imdb_votes','imdb_score','tmdb_popularity']]"
   ]
  },
  {
   "cell_type": "markdown",
   "id": "0ed5a5bc",
   "metadata": {},
   "source": [
    "3. Assessing the popularity of Production Countries"
   ]
  },
  {
   "cell_type": "markdown",
   "id": "4e597f84",
   "metadata": {},
   "source": [
    "3.1. For Movies + Shows"
   ]
  },
  {
   "cell_type": "code",
   "execution_count": 36,
   "id": "b56c2c4c",
   "metadata": {},
   "outputs": [
    {
     "data": {
      "text/html": [
       "<div>\n",
       "<style scoped>\n",
       "    .dataframe tbody tr th:only-of-type {\n",
       "        vertical-align: middle;\n",
       "    }\n",
       "\n",
       "    .dataframe tbody tr th {\n",
       "        vertical-align: top;\n",
       "    }\n",
       "\n",
       "    .dataframe thead th {\n",
       "        text-align: right;\n",
       "    }\n",
       "</style>\n",
       "<table border=\"1\" class=\"dataframe\">\n",
       "  <thead>\n",
       "    <tr style=\"text-align: right;\">\n",
       "      <th></th>\n",
       "      <th>production_countries</th>\n",
       "      <th>imdb_votes</th>\n",
       "      <th>imdb_score</th>\n",
       "      <th>tmdb_popularity</th>\n",
       "    </tr>\n",
       "  </thead>\n",
       "  <tbody>\n",
       "    <tr>\n",
       "      <th>493</th>\n",
       "      <td>['ZA', 'US', 'NZ', 'CA']</td>\n",
       "      <td>670344.000000</td>\n",
       "      <td>7.900000</td>\n",
       "      <td>80.387</td>\n",
       "    </tr>\n",
       "    <tr>\n",
       "      <th>436</th>\n",
       "      <td>['US', 'FR', 'GB']</td>\n",
       "      <td>306270.000000</td>\n",
       "      <td>7.700000</td>\n",
       "      <td>19.293</td>\n",
       "    </tr>\n",
       "    <tr>\n",
       "      <th>166</th>\n",
       "      <td>['FR', 'GB', 'US']</td>\n",
       "      <td>286962.333333</td>\n",
       "      <td>7.333333</td>\n",
       "      <td>32.436</td>\n",
       "    </tr>\n",
       "    <tr>\n",
       "      <th>16</th>\n",
       "      <td>['AU', 'GB', 'US']</td>\n",
       "      <td>231965.000000</td>\n",
       "      <td>6.200000</td>\n",
       "      <td>174.607</td>\n",
       "    </tr>\n",
       "    <tr>\n",
       "      <th>111</th>\n",
       "      <td>['DE', 'SE', 'DK']</td>\n",
       "      <td>215478.000000</td>\n",
       "      <td>7.800000</td>\n",
       "      <td>16.726</td>\n",
       "    </tr>\n",
       "  </tbody>\n",
       "</table>\n",
       "</div>"
      ],
      "text/plain": [
       "         production_countries     imdb_votes  imdb_score  tmdb_popularity\n",
       "493  ['ZA', 'US', 'NZ', 'CA']  670344.000000    7.900000           80.387\n",
       "436        ['US', 'FR', 'GB']  306270.000000    7.700000           19.293\n",
       "166        ['FR', 'GB', 'US']  286962.333333    7.333333           32.436\n",
       "16         ['AU', 'GB', 'US']  231965.000000    6.200000          174.607\n",
       "111        ['DE', 'SE', 'DK']  215478.000000    7.800000           16.726"
      ]
     },
     "execution_count": 36,
     "metadata": {},
     "output_type": "execute_result"
    }
   ],
   "source": [
    "df_pc_grp_rp = df.groupby('production_countries')\n",
    "df_pc_grp_rp = df_pc_grp_rp[['imdb_score','tmdb_popularity','tmdb_score', 'imdb_votes']].mean().reset_index()\n",
    "df_pc_grp_rp = df_pc_grp_rp.sort_values(by=['imdb_votes', 'imdb_score', 'tmdb_popularity'], ascending  = [False,False,False]).iloc[0:5]\n",
    "df_pc_grp_rp[['production_countries','imdb_votes','imdb_score','tmdb_popularity']]"
   ]
  },
  {
   "cell_type": "markdown",
   "id": "da2b7555",
   "metadata": {},
   "source": [
    "3.2. For Movies"
   ]
  },
  {
   "cell_type": "code",
   "execution_count": 38,
   "id": "fc35691a",
   "metadata": {},
   "outputs": [
    {
     "data": {
      "text/html": [
       "<div>\n",
       "<style scoped>\n",
       "    .dataframe tbody tr th:only-of-type {\n",
       "        vertical-align: middle;\n",
       "    }\n",
       "\n",
       "    .dataframe tbody tr th {\n",
       "        vertical-align: top;\n",
       "    }\n",
       "\n",
       "    .dataframe thead th {\n",
       "        text-align: right;\n",
       "    }\n",
       "</style>\n",
       "<table border=\"1\" class=\"dataframe\">\n",
       "  <thead>\n",
       "    <tr style=\"text-align: right;\">\n",
       "      <th></th>\n",
       "      <th>production_countries</th>\n",
       "      <th>imdb_votes</th>\n",
       "      <th>imdb_score</th>\n",
       "      <th>tmdb_popularity</th>\n",
       "    </tr>\n",
       "  </thead>\n",
       "  <tbody>\n",
       "    <tr>\n",
       "      <th>469</th>\n",
       "      <td>['ZA', 'US', 'NZ', 'CA']</td>\n",
       "      <td>670344.000000</td>\n",
       "      <td>7.900000</td>\n",
       "      <td>80.387</td>\n",
       "    </tr>\n",
       "    <tr>\n",
       "      <th>414</th>\n",
       "      <td>['US', 'FR', 'GB']</td>\n",
       "      <td>306270.000000</td>\n",
       "      <td>7.700000</td>\n",
       "      <td>19.293</td>\n",
       "    </tr>\n",
       "    <tr>\n",
       "      <th>155</th>\n",
       "      <td>['FR', 'GB', 'US']</td>\n",
       "      <td>286962.333333</td>\n",
       "      <td>7.333333</td>\n",
       "      <td>32.436</td>\n",
       "    </tr>\n",
       "    <tr>\n",
       "      <th>15</th>\n",
       "      <td>['AU', 'GB', 'US']</td>\n",
       "      <td>231965.000000</td>\n",
       "      <td>6.200000</td>\n",
       "      <td>174.607</td>\n",
       "    </tr>\n",
       "    <tr>\n",
       "      <th>104</th>\n",
       "      <td>['DE', 'SE', 'DK']</td>\n",
       "      <td>215478.000000</td>\n",
       "      <td>7.800000</td>\n",
       "      <td>16.726</td>\n",
       "    </tr>\n",
       "  </tbody>\n",
       "</table>\n",
       "</div>"
      ],
      "text/plain": [
       "         production_countries     imdb_votes  imdb_score  tmdb_popularity\n",
       "469  ['ZA', 'US', 'NZ', 'CA']  670344.000000    7.900000           80.387\n",
       "414        ['US', 'FR', 'GB']  306270.000000    7.700000           19.293\n",
       "155        ['FR', 'GB', 'US']  286962.333333    7.333333           32.436\n",
       "15         ['AU', 'GB', 'US']  231965.000000    6.200000          174.607\n",
       "104        ['DE', 'SE', 'DK']  215478.000000    7.800000           16.726"
      ]
     },
     "execution_count": 38,
     "metadata": {},
     "output_type": "execute_result"
    }
   ],
   "source": [
    "df_movies_pc_grp_rp = df_movies.groupby('production_countries')\n",
    "df_movies_pc_grp_rp = df_movies_pc_grp_rp[['imdb_score','tmdb_popularity','tmdb_score', 'imdb_votes']].mean().reset_index()\n",
    "df_movies_pc_grp_rp = df_movies_pc_grp_rp.sort_values(by=['imdb_votes', 'imdb_score', 'tmdb_popularity'], ascending  = [False,False,False]).iloc[0:5]\n",
    "df_movies_pc_grp_rp[['production_countries','imdb_votes','imdb_score','tmdb_popularity']]"
   ]
  },
  {
   "cell_type": "markdown",
   "id": "979413a9",
   "metadata": {},
   "source": [
    "3.3. For Shows"
   ]
  },
  {
   "cell_type": "code",
   "execution_count": 39,
   "id": "2138d230",
   "metadata": {},
   "outputs": [
    {
     "data": {
      "text/html": [
       "<div>\n",
       "<style scoped>\n",
       "    .dataframe tbody tr th:only-of-type {\n",
       "        vertical-align: middle;\n",
       "    }\n",
       "\n",
       "    .dataframe tbody tr th {\n",
       "        vertical-align: top;\n",
       "    }\n",
       "\n",
       "    .dataframe thead th {\n",
       "        text-align: right;\n",
       "    }\n",
       "</style>\n",
       "<table border=\"1\" class=\"dataframe\">\n",
       "  <thead>\n",
       "    <tr style=\"text-align: right;\">\n",
       "      <th></th>\n",
       "      <th>production_countries</th>\n",
       "      <th>imdb_votes</th>\n",
       "      <th>imdb_score</th>\n",
       "      <th>tmdb_popularity</th>\n",
       "    </tr>\n",
       "  </thead>\n",
       "  <tbody>\n",
       "    <tr>\n",
       "      <th>59</th>\n",
       "      <td>['US', 'AU']</td>\n",
       "      <td>36483.000000</td>\n",
       "      <td>8.300000</td>\n",
       "      <td>28.242000</td>\n",
       "    </tr>\n",
       "    <tr>\n",
       "      <th>37</th>\n",
       "      <td>['IE']</td>\n",
       "      <td>20663.600000</td>\n",
       "      <td>6.820000</td>\n",
       "      <td>10.472600</td>\n",
       "    </tr>\n",
       "    <tr>\n",
       "      <th>60</th>\n",
       "      <td>['US', 'BE', 'CA', 'FR']</td>\n",
       "      <td>17859.000000</td>\n",
       "      <td>8.200000</td>\n",
       "      <td>25.766000</td>\n",
       "    </tr>\n",
       "    <tr>\n",
       "      <th>68</th>\n",
       "      <td>['US']</td>\n",
       "      <td>14905.162609</td>\n",
       "      <td>6.883478</td>\n",
       "      <td>15.568273</td>\n",
       "    </tr>\n",
       "    <tr>\n",
       "      <th>11</th>\n",
       "      <td>['CA']</td>\n",
       "      <td>11269.081633</td>\n",
       "      <td>6.500000</td>\n",
       "      <td>12.393082</td>\n",
       "    </tr>\n",
       "  </tbody>\n",
       "</table>\n",
       "</div>"
      ],
      "text/plain": [
       "        production_countries    imdb_votes  imdb_score  tmdb_popularity\n",
       "59              ['US', 'AU']  36483.000000    8.300000        28.242000\n",
       "37                    ['IE']  20663.600000    6.820000        10.472600\n",
       "60  ['US', 'BE', 'CA', 'FR']  17859.000000    8.200000        25.766000\n",
       "68                    ['US']  14905.162609    6.883478        15.568273\n",
       "11                    ['CA']  11269.081633    6.500000        12.393082"
      ]
     },
     "execution_count": 39,
     "metadata": {},
     "output_type": "execute_result"
    }
   ],
   "source": [
    "df_shows_pc_grp_rp = df_shows.groupby('production_countries')\n",
    "df_shows_pc_grp_rp = df_shows_pc_grp_rp[['imdb_score','tmdb_popularity','tmdb_score', 'imdb_votes']].mean().reset_index()\n",
    "df_shows_pc_grp_rp = df_shows_pc_grp_rp.sort_values(by=['imdb_votes', 'imdb_score', 'tmdb_popularity'], ascending  = [False,False,False]).iloc[0:5]\n",
    "df_shows_pc_grp_rp[['production_countries','imdb_votes','imdb_score','tmdb_popularity']]"
   ]
  },
  {
   "cell_type": "markdown",
   "id": "6affa26e",
   "metadata": {},
   "source": [
    "4. Assessing the popularity of Age-Certifications"
   ]
  },
  {
   "cell_type": "markdown",
   "id": "a4af0a2d",
   "metadata": {},
   "source": [
    "4.1. For Movies + Shows"
   ]
  },
  {
   "cell_type": "code",
   "execution_count": 40,
   "id": "a5c1a031",
   "metadata": {},
   "outputs": [
    {
     "data": {
      "text/html": [
       "<div>\n",
       "<style scoped>\n",
       "    .dataframe tbody tr th:only-of-type {\n",
       "        vertical-align: middle;\n",
       "    }\n",
       "\n",
       "    .dataframe tbody tr th {\n",
       "        vertical-align: top;\n",
       "    }\n",
       "\n",
       "    .dataframe thead th {\n",
       "        text-align: right;\n",
       "    }\n",
       "</style>\n",
       "<table border=\"1\" class=\"dataframe\">\n",
       "  <thead>\n",
       "    <tr style=\"text-align: right;\">\n",
       "      <th></th>\n",
       "      <th>age_certification</th>\n",
       "      <th>imdb_votes</th>\n",
       "      <th>imdb_score</th>\n",
       "      <th>tmdb_popularity</th>\n",
       "    </tr>\n",
       "  </thead>\n",
       "  <tbody>\n",
       "    <tr>\n",
       "      <th>3</th>\n",
       "      <td>PG-13</td>\n",
       "      <td>33801.960034</td>\n",
       "      <td>5.984014</td>\n",
       "      <td>11.290699</td>\n",
       "    </tr>\n",
       "    <tr>\n",
       "      <th>7</th>\n",
       "      <td>TV-MA</td>\n",
       "      <td>29038.668203</td>\n",
       "      <td>7.335945</td>\n",
       "      <td>27.245774</td>\n",
       "    </tr>\n",
       "    <tr>\n",
       "      <th>4</th>\n",
       "      <td>R</td>\n",
       "      <td>21989.964371</td>\n",
       "      <td>5.691513</td>\n",
       "      <td>11.146736</td>\n",
       "    </tr>\n",
       "    <tr>\n",
       "      <th>5</th>\n",
       "      <td>TV-14</td>\n",
       "      <td>20704.920213</td>\n",
       "      <td>6.976596</td>\n",
       "      <td>21.873359</td>\n",
       "    </tr>\n",
       "    <tr>\n",
       "      <th>2</th>\n",
       "      <td>PG</td>\n",
       "      <td>11341.057560</td>\n",
       "      <td>5.957560</td>\n",
       "      <td>10.569223</td>\n",
       "    </tr>\n",
       "  </tbody>\n",
       "</table>\n",
       "</div>"
      ],
      "text/plain": [
       "  age_certification    imdb_votes  imdb_score  tmdb_popularity\n",
       "3             PG-13  33801.960034    5.984014        11.290699\n",
       "7             TV-MA  29038.668203    7.335945        27.245774\n",
       "4                 R  21989.964371    5.691513        11.146736\n",
       "5             TV-14  20704.920213    6.976596        21.873359\n",
       "2                PG  11341.057560    5.957560        10.569223"
      ]
     },
     "execution_count": 40,
     "metadata": {},
     "output_type": "execute_result"
    }
   ],
   "source": [
    "df_ac_grp_rp = df.groupby('age_certification')\n",
    "df_ac_grp_rp = df_ac_grp_rp[['imdb_score','tmdb_popularity','tmdb_score', 'imdb_votes']].mean().reset_index()\n",
    "df_ac_grp_rp = df_ac_grp_rp.sort_values(by=['imdb_votes', 'imdb_score', 'tmdb_popularity'], ascending  = [False,False,False]).iloc[0:5]\n",
    "df_ac_grp_rp[['age_certification','imdb_votes','imdb_score','tmdb_popularity']]"
   ]
  },
  {
   "cell_type": "markdown",
   "id": "83ea13da",
   "metadata": {},
   "source": [
    "4.2. For Movies"
   ]
  },
  {
   "cell_type": "code",
   "execution_count": 41,
   "id": "41798cd2",
   "metadata": {},
   "outputs": [
    {
     "data": {
      "text/html": [
       "<div>\n",
       "<style scoped>\n",
       "    .dataframe tbody tr th:only-of-type {\n",
       "        vertical-align: middle;\n",
       "    }\n",
       "\n",
       "    .dataframe tbody tr th {\n",
       "        vertical-align: top;\n",
       "    }\n",
       "\n",
       "    .dataframe thead th {\n",
       "        text-align: right;\n",
       "    }\n",
       "</style>\n",
       "<table border=\"1\" class=\"dataframe\">\n",
       "  <thead>\n",
       "    <tr style=\"text-align: right;\">\n",
       "      <th></th>\n",
       "      <th>age_certification</th>\n",
       "      <th>imdb_votes</th>\n",
       "      <th>imdb_score</th>\n",
       "      <th>tmdb_popularity</th>\n",
       "    </tr>\n",
       "  </thead>\n",
       "  <tbody>\n",
       "    <tr>\n",
       "      <th>3</th>\n",
       "      <td>PG-13</td>\n",
       "      <td>33801.960034</td>\n",
       "      <td>5.984014</td>\n",
       "      <td>11.290699</td>\n",
       "    </tr>\n",
       "    <tr>\n",
       "      <th>4</th>\n",
       "      <td>R</td>\n",
       "      <td>21989.964371</td>\n",
       "      <td>5.691513</td>\n",
       "      <td>11.146736</td>\n",
       "    </tr>\n",
       "    <tr>\n",
       "      <th>2</th>\n",
       "      <td>PG</td>\n",
       "      <td>11341.057560</td>\n",
       "      <td>5.957560</td>\n",
       "      <td>10.569223</td>\n",
       "    </tr>\n",
       "    <tr>\n",
       "      <th>0</th>\n",
       "      <td>G</td>\n",
       "      <td>3091.834572</td>\n",
       "      <td>5.963197</td>\n",
       "      <td>4.511699</td>\n",
       "    </tr>\n",
       "    <tr>\n",
       "      <th>1</th>\n",
       "      <td>NC-17</td>\n",
       "      <td>2256.192308</td>\n",
       "      <td>5.369231</td>\n",
       "      <td>5.885462</td>\n",
       "    </tr>\n",
       "  </tbody>\n",
       "</table>\n",
       "</div>"
      ],
      "text/plain": [
       "  age_certification    imdb_votes  imdb_score  tmdb_popularity\n",
       "3             PG-13  33801.960034    5.984014        11.290699\n",
       "4                 R  21989.964371    5.691513        11.146736\n",
       "2                PG  11341.057560    5.957560        10.569223\n",
       "0                 G   3091.834572    5.963197         4.511699\n",
       "1             NC-17   2256.192308    5.369231         5.885462"
      ]
     },
     "execution_count": 41,
     "metadata": {},
     "output_type": "execute_result"
    }
   ],
   "source": [
    "df_movies_ac_grp_rp = df_movies.groupby('age_certification')\n",
    "df_movies_ac_grp_rp = df_movies_ac_grp_rp[['imdb_score','tmdb_popularity','tmdb_score', 'imdb_votes']].mean().reset_index()\n",
    "df_movies_ac_grp_rp = df_movies_ac_grp_rp.sort_values(by=['imdb_votes', 'imdb_score', 'tmdb_popularity'], ascending  = [False,False,False]).iloc[0:5]\n",
    "df_movies_ac_grp_rp[['age_certification','imdb_votes','imdb_score','tmdb_popularity']]"
   ]
  },
  {
   "cell_type": "markdown",
   "id": "b1f0d065",
   "metadata": {},
   "source": [
    "4.3. For Shows"
   ]
  },
  {
   "cell_type": "code",
   "execution_count": 42,
   "id": "542f83c1",
   "metadata": {},
   "outputs": [
    {
     "data": {
      "text/html": [
       "<div>\n",
       "<style scoped>\n",
       "    .dataframe tbody tr th:only-of-type {\n",
       "        vertical-align: middle;\n",
       "    }\n",
       "\n",
       "    .dataframe tbody tr th {\n",
       "        vertical-align: top;\n",
       "    }\n",
       "\n",
       "    .dataframe thead th {\n",
       "        text-align: right;\n",
       "    }\n",
       "</style>\n",
       "<table border=\"1\" class=\"dataframe\">\n",
       "  <thead>\n",
       "    <tr style=\"text-align: right;\">\n",
       "      <th></th>\n",
       "      <th>age_certification</th>\n",
       "      <th>imdb_votes</th>\n",
       "      <th>imdb_score</th>\n",
       "      <th>tmdb_popularity</th>\n",
       "    </tr>\n",
       "  </thead>\n",
       "  <tbody>\n",
       "    <tr>\n",
       "      <th>2</th>\n",
       "      <td>TV-MA</td>\n",
       "      <td>29038.668203</td>\n",
       "      <td>7.335945</td>\n",
       "      <td>27.245774</td>\n",
       "    </tr>\n",
       "    <tr>\n",
       "      <th>0</th>\n",
       "      <td>TV-14</td>\n",
       "      <td>20704.920213</td>\n",
       "      <td>6.976596</td>\n",
       "      <td>21.873359</td>\n",
       "    </tr>\n",
       "    <tr>\n",
       "      <th>3</th>\n",
       "      <td>TV-PG</td>\n",
       "      <td>10387.582418</td>\n",
       "      <td>7.372527</td>\n",
       "      <td>15.137978</td>\n",
       "    </tr>\n",
       "    <tr>\n",
       "      <th>5</th>\n",
       "      <td>TV-Y7</td>\n",
       "      <td>3797.211538</td>\n",
       "      <td>6.619231</td>\n",
       "      <td>15.524365</td>\n",
       "    </tr>\n",
       "    <tr>\n",
       "      <th>4</th>\n",
       "      <td>TV-Y</td>\n",
       "      <td>1337.185897</td>\n",
       "      <td>6.479487</td>\n",
       "      <td>10.350731</td>\n",
       "    </tr>\n",
       "  </tbody>\n",
       "</table>\n",
       "</div>"
      ],
      "text/plain": [
       "  age_certification    imdb_votes  imdb_score  tmdb_popularity\n",
       "2             TV-MA  29038.668203    7.335945        27.245774\n",
       "0             TV-14  20704.920213    6.976596        21.873359\n",
       "3             TV-PG  10387.582418    7.372527        15.137978\n",
       "5             TV-Y7   3797.211538    6.619231        15.524365\n",
       "4              TV-Y   1337.185897    6.479487        10.350731"
      ]
     },
     "execution_count": 42,
     "metadata": {},
     "output_type": "execute_result"
    }
   ],
   "source": [
    "df_shows_ac_grp_rp = df_shows.groupby('age_certification')\n",
    "df_shows_ac_grp_rp = df_shows_ac_grp_rp[['imdb_score','tmdb_popularity','tmdb_score', 'imdb_votes']].mean().reset_index()\n",
    "df_shows_ac_grp_rp = df_shows_ac_grp_rp.sort_values(by=['imdb_votes', 'imdb_score', 'tmdb_popularity'], ascending  = [False,False,False]).iloc[0:5]\n",
    "df_shows_ac_grp_rp[['age_certification','imdb_votes','imdb_score','tmdb_popularity']]"
   ]
  },
  {
   "cell_type": "markdown",
   "id": "662f545a",
   "metadata": {},
   "source": [
    "# Analyzing the trends over the years "
   ]
  },
  {
   "cell_type": "markdown",
   "id": "00f926c5",
   "metadata": {},
   "source": [
    "1. Trend in the production of shows over the years"
   ]
  },
  {
   "cell_type": "code",
   "execution_count": 43,
   "id": "55950465",
   "metadata": {
    "scrolled": true
   },
   "outputs": [
    {
     "data": {
      "text/html": [
       "<div>\n",
       "<style scoped>\n",
       "    .dataframe tbody tr th:only-of-type {\n",
       "        vertical-align: middle;\n",
       "    }\n",
       "\n",
       "    .dataframe tbody tr th {\n",
       "        vertical-align: top;\n",
       "    }\n",
       "\n",
       "    .dataframe thead th {\n",
       "        text-align: right;\n",
       "    }\n",
       "</style>\n",
       "<table border=\"1\" class=\"dataframe\">\n",
       "  <thead>\n",
       "    <tr style=\"text-align: right;\">\n",
       "      <th></th>\n",
       "      <th>release_year</th>\n",
       "      <th>title</th>\n",
       "      <th>type</th>\n",
       "      <th>description</th>\n",
       "      <th>age_certification</th>\n",
       "      <th>runtime</th>\n",
       "      <th>genres</th>\n",
       "      <th>production_countries</th>\n",
       "      <th>seasons</th>\n",
       "      <th>imdb_score</th>\n",
       "      <th>imdb_votes</th>\n",
       "      <th>tmdb_popularity</th>\n",
       "      <th>tmdb_score</th>\n",
       "    </tr>\n",
       "  </thead>\n",
       "  <tbody>\n",
       "    <tr>\n",
       "      <th>0</th>\n",
       "      <td>1934</td>\n",
       "      <td>1</td>\n",
       "      <td>1</td>\n",
       "      <td>1</td>\n",
       "      <td>1</td>\n",
       "      <td>1</td>\n",
       "      <td>1</td>\n",
       "      <td>1</td>\n",
       "      <td>1</td>\n",
       "      <td>1</td>\n",
       "      <td>1</td>\n",
       "      <td>1</td>\n",
       "      <td>1</td>\n",
       "    </tr>\n",
       "    <tr>\n",
       "      <th>1</th>\n",
       "      <td>1950</td>\n",
       "      <td>1</td>\n",
       "      <td>1</td>\n",
       "      <td>1</td>\n",
       "      <td>1</td>\n",
       "      <td>1</td>\n",
       "      <td>1</td>\n",
       "      <td>1</td>\n",
       "      <td>1</td>\n",
       "      <td>1</td>\n",
       "      <td>1</td>\n",
       "      <td>1</td>\n",
       "      <td>1</td>\n",
       "    </tr>\n",
       "    <tr>\n",
       "      <th>2</th>\n",
       "      <td>1951</td>\n",
       "      <td>1</td>\n",
       "      <td>1</td>\n",
       "      <td>1</td>\n",
       "      <td>1</td>\n",
       "      <td>1</td>\n",
       "      <td>1</td>\n",
       "      <td>1</td>\n",
       "      <td>1</td>\n",
       "      <td>1</td>\n",
       "      <td>1</td>\n",
       "      <td>1</td>\n",
       "      <td>1</td>\n",
       "    </tr>\n",
       "    <tr>\n",
       "      <th>3</th>\n",
       "      <td>1952</td>\n",
       "      <td>1</td>\n",
       "      <td>1</td>\n",
       "      <td>1</td>\n",
       "      <td>1</td>\n",
       "      <td>1</td>\n",
       "      <td>1</td>\n",
       "      <td>1</td>\n",
       "      <td>1</td>\n",
       "      <td>1</td>\n",
       "      <td>1</td>\n",
       "      <td>1</td>\n",
       "      <td>1</td>\n",
       "    </tr>\n",
       "    <tr>\n",
       "      <th>4</th>\n",
       "      <td>1953</td>\n",
       "      <td>2</td>\n",
       "      <td>1</td>\n",
       "      <td>2</td>\n",
       "      <td>1</td>\n",
       "      <td>1</td>\n",
       "      <td>2</td>\n",
       "      <td>1</td>\n",
       "      <td>2</td>\n",
       "      <td>2</td>\n",
       "      <td>2</td>\n",
       "      <td>2</td>\n",
       "      <td>2</td>\n",
       "    </tr>\n",
       "    <tr>\n",
       "      <th>...</th>\n",
       "      <td>...</td>\n",
       "      <td>...</td>\n",
       "      <td>...</td>\n",
       "      <td>...</td>\n",
       "      <td>...</td>\n",
       "      <td>...</td>\n",
       "      <td>...</td>\n",
       "      <td>...</td>\n",
       "      <td>...</td>\n",
       "      <td>...</td>\n",
       "      <td>...</td>\n",
       "      <td>...</td>\n",
       "      <td>...</td>\n",
       "    </tr>\n",
       "    <tr>\n",
       "      <th>59</th>\n",
       "      <td>2018</td>\n",
       "      <td>117</td>\n",
       "      <td>1</td>\n",
       "      <td>116</td>\n",
       "      <td>6</td>\n",
       "      <td>55</td>\n",
       "      <td>82</td>\n",
       "      <td>19</td>\n",
       "      <td>6</td>\n",
       "      <td>41</td>\n",
       "      <td>94</td>\n",
       "      <td>92</td>\n",
       "      <td>34</td>\n",
       "    </tr>\n",
       "    <tr>\n",
       "      <th>60</th>\n",
       "      <td>2019</td>\n",
       "      <td>104</td>\n",
       "      <td>1</td>\n",
       "      <td>101</td>\n",
       "      <td>6</td>\n",
       "      <td>46</td>\n",
       "      <td>60</td>\n",
       "      <td>18</td>\n",
       "      <td>5</td>\n",
       "      <td>40</td>\n",
       "      <td>85</td>\n",
       "      <td>75</td>\n",
       "      <td>36</td>\n",
       "    </tr>\n",
       "    <tr>\n",
       "      <th>61</th>\n",
       "      <td>2020</td>\n",
       "      <td>124</td>\n",
       "      <td>1</td>\n",
       "      <td>120</td>\n",
       "      <td>6</td>\n",
       "      <td>55</td>\n",
       "      <td>57</td>\n",
       "      <td>21</td>\n",
       "      <td>4</td>\n",
       "      <td>36</td>\n",
       "      <td>77</td>\n",
       "      <td>92</td>\n",
       "      <td>33</td>\n",
       "    </tr>\n",
       "    <tr>\n",
       "      <th>62</th>\n",
       "      <td>2021</td>\n",
       "      <td>141</td>\n",
       "      <td>1</td>\n",
       "      <td>130</td>\n",
       "      <td>5</td>\n",
       "      <td>52</td>\n",
       "      <td>63</td>\n",
       "      <td>21</td>\n",
       "      <td>2</td>\n",
       "      <td>46</td>\n",
       "      <td>88</td>\n",
       "      <td>98</td>\n",
       "      <td>36</td>\n",
       "    </tr>\n",
       "    <tr>\n",
       "      <th>63</th>\n",
       "      <td>2022</td>\n",
       "      <td>39</td>\n",
       "      <td>1</td>\n",
       "      <td>39</td>\n",
       "      <td>5</td>\n",
       "      <td>23</td>\n",
       "      <td>28</td>\n",
       "      <td>13</td>\n",
       "      <td>3</td>\n",
       "      <td>19</td>\n",
       "      <td>29</td>\n",
       "      <td>38</td>\n",
       "      <td>11</td>\n",
       "    </tr>\n",
       "  </tbody>\n",
       "</table>\n",
       "<p>64 rows × 13 columns</p>\n",
       "</div>"
      ],
      "text/plain": [
       "    release_year  title  type  description  age_certification  runtime  \\\n",
       "0           1934      1     1            1                  1        1   \n",
       "1           1950      1     1            1                  1        1   \n",
       "2           1951      1     1            1                  1        1   \n",
       "3           1952      1     1            1                  1        1   \n",
       "4           1953      2     1            2                  1        1   \n",
       "..           ...    ...   ...          ...                ...      ...   \n",
       "59          2018    117     1          116                  6       55   \n",
       "60          2019    104     1          101                  6       46   \n",
       "61          2020    124     1          120                  6       55   \n",
       "62          2021    141     1          130                  5       52   \n",
       "63          2022     39     1           39                  5       23   \n",
       "\n",
       "    genres  production_countries  seasons  imdb_score  imdb_votes  \\\n",
       "0        1                     1        1           1           1   \n",
       "1        1                     1        1           1           1   \n",
       "2        1                     1        1           1           1   \n",
       "3        1                     1        1           1           1   \n",
       "4        2                     1        2           2           2   \n",
       "..     ...                   ...      ...         ...         ...   \n",
       "59      82                    19        6          41          94   \n",
       "60      60                    18        5          40          85   \n",
       "61      57                    21        4          36          77   \n",
       "62      63                    21        2          46          88   \n",
       "63      28                    13        3          19          29   \n",
       "\n",
       "    tmdb_popularity  tmdb_score  \n",
       "0                 1           1  \n",
       "1                 1           1  \n",
       "2                 1           1  \n",
       "3                 1           1  \n",
       "4                 2           2  \n",
       "..              ...         ...  \n",
       "59               92          34  \n",
       "60               75          36  \n",
       "61               92          33  \n",
       "62               98          36  \n",
       "63               38          11  \n",
       "\n",
       "[64 rows x 13 columns]"
      ]
     },
     "execution_count": 43,
     "metadata": {},
     "output_type": "execute_result"
    }
   ],
   "source": [
    "dfgrp5_1 = df[df['type'] == 'SHOW'].groupby(['release_year'])\n",
    "dfgrp5_1 = dfgrp5_1.nunique().reset_index()\n",
    "dfgrp5_1"
   ]
  },
  {
   "cell_type": "code",
   "execution_count": 44,
   "id": "424ed052",
   "metadata": {},
   "outputs": [
    {
     "data": {
      "image/png": "[encoded data removed]",
      "text/plain": [
       "<Figure size 432x288 with 1 Axes>"
      ]
     },
     "metadata": {
      "needs_background": "light"
     },
     "output_type": "display_data"
    }
   ],
   "source": [
    "plt.plot(dfgrp5_1['release_year'] , dfgrp5_1['title'])\n",
    "plt.show()"
   ]
  },
  {
   "cell_type": "code",
   "execution_count": 45,
   "id": "62d83bfd",
   "metadata": {},
   "outputs": [
    {
     "data": {
      "text/html": [
       "<div>\n",
       "<style scoped>\n",
       "    .dataframe tbody tr th:only-of-type {\n",
       "        vertical-align: middle;\n",
       "    }\n",
       "\n",
       "    .dataframe tbody tr th {\n",
       "        vertical-align: top;\n",
       "    }\n",
       "\n",
       "    .dataframe thead th {\n",
       "        text-align: right;\n",
       "    }\n",
       "</style>\n",
       "<table border=\"1\" class=\"dataframe\">\n",
       "  <thead>\n",
       "    <tr style=\"text-align: right;\">\n",
       "      <th></th>\n",
       "      <th>release_year</th>\n",
       "      <th>title</th>\n",
       "      <th>type</th>\n",
       "      <th>description</th>\n",
       "      <th>age_certification</th>\n",
       "      <th>runtime</th>\n",
       "      <th>genres</th>\n",
       "      <th>production_countries</th>\n",
       "      <th>seasons</th>\n",
       "      <th>imdb_score</th>\n",
       "      <th>imdb_votes</th>\n",
       "      <th>tmdb_popularity</th>\n",
       "      <th>tmdb_score</th>\n",
       "    </tr>\n",
       "  </thead>\n",
       "  <tbody>\n",
       "    <tr>\n",
       "      <th>0</th>\n",
       "      <td>1912</td>\n",
       "      <td>1</td>\n",
       "      <td>1</td>\n",
       "      <td>1</td>\n",
       "      <td>1</td>\n",
       "      <td>1</td>\n",
       "      <td>1</td>\n",
       "      <td>1</td>\n",
       "      <td>1</td>\n",
       "      <td>1</td>\n",
       "      <td>1</td>\n",
       "      <td>1</td>\n",
       "      <td>1</td>\n",
       "    </tr>\n",
       "    <tr>\n",
       "      <th>1</th>\n",
       "      <td>1914</td>\n",
       "      <td>2</td>\n",
       "      <td>1</td>\n",
       "      <td>2</td>\n",
       "      <td>1</td>\n",
       "      <td>2</td>\n",
       "      <td>2</td>\n",
       "      <td>1</td>\n",
       "      <td>1</td>\n",
       "      <td>2</td>\n",
       "      <td>2</td>\n",
       "      <td>2</td>\n",
       "      <td>2</td>\n",
       "    </tr>\n",
       "    <tr>\n",
       "      <th>2</th>\n",
       "      <td>1915</td>\n",
       "      <td>5</td>\n",
       "      <td>1</td>\n",
       "      <td>5</td>\n",
       "      <td>1</td>\n",
       "      <td>3</td>\n",
       "      <td>4</td>\n",
       "      <td>1</td>\n",
       "      <td>1</td>\n",
       "      <td>4</td>\n",
       "      <td>5</td>\n",
       "      <td>5</td>\n",
       "      <td>4</td>\n",
       "    </tr>\n",
       "    <tr>\n",
       "      <th>3</th>\n",
       "      <td>1916</td>\n",
       "      <td>2</td>\n",
       "      <td>1</td>\n",
       "      <td>2</td>\n",
       "      <td>1</td>\n",
       "      <td>2</td>\n",
       "      <td>2</td>\n",
       "      <td>1</td>\n",
       "      <td>1</td>\n",
       "      <td>2</td>\n",
       "      <td>2</td>\n",
       "      <td>2</td>\n",
       "      <td>2</td>\n",
       "    </tr>\n",
       "    <tr>\n",
       "      <th>4</th>\n",
       "      <td>1917</td>\n",
       "      <td>1</td>\n",
       "      <td>1</td>\n",
       "      <td>1</td>\n",
       "      <td>1</td>\n",
       "      <td>1</td>\n",
       "      <td>1</td>\n",
       "      <td>1</td>\n",
       "      <td>1</td>\n",
       "      <td>1</td>\n",
       "      <td>1</td>\n",
       "      <td>1</td>\n",
       "      <td>1</td>\n",
       "    </tr>\n",
       "    <tr>\n",
       "      <th>...</th>\n",
       "      <td>...</td>\n",
       "      <td>...</td>\n",
       "      <td>...</td>\n",
       "      <td>...</td>\n",
       "      <td>...</td>\n",
       "      <td>...</td>\n",
       "      <td>...</td>\n",
       "      <td>...</td>\n",
       "      <td>...</td>\n",
       "      <td>...</td>\n",
       "      <td>...</td>\n",
       "      <td>...</td>\n",
       "      <td>...</td>\n",
       "    </tr>\n",
       "    <tr>\n",
       "      <th>105</th>\n",
       "      <td>2018</td>\n",
       "      <td>568</td>\n",
       "      <td>1</td>\n",
       "      <td>559</td>\n",
       "      <td>6</td>\n",
       "      <td>119</td>\n",
       "      <td>217</td>\n",
       "      <td>83</td>\n",
       "      <td>1</td>\n",
       "      <td>66</td>\n",
       "      <td>428</td>\n",
       "      <td>439</td>\n",
       "      <td>57</td>\n",
       "    </tr>\n",
       "    <tr>\n",
       "      <th>106</th>\n",
       "      <td>2019</td>\n",
       "      <td>703</td>\n",
       "      <td>1</td>\n",
       "      <td>695</td>\n",
       "      <td>5</td>\n",
       "      <td>134</td>\n",
       "      <td>252</td>\n",
       "      <td>102</td>\n",
       "      <td>1</td>\n",
       "      <td>68</td>\n",
       "      <td>473</td>\n",
       "      <td>545</td>\n",
       "      <td>66</td>\n",
       "    </tr>\n",
       "    <tr>\n",
       "      <th>107</th>\n",
       "      <td>2020</td>\n",
       "      <td>574</td>\n",
       "      <td>1</td>\n",
       "      <td>554</td>\n",
       "      <td>6</td>\n",
       "      <td>122</td>\n",
       "      <td>178</td>\n",
       "      <td>62</td>\n",
       "      <td>1</td>\n",
       "      <td>69</td>\n",
       "      <td>344</td>\n",
       "      <td>428</td>\n",
       "      <td>62</td>\n",
       "    </tr>\n",
       "    <tr>\n",
       "      <th>108</th>\n",
       "      <td>2021</td>\n",
       "      <td>713</td>\n",
       "      <td>1</td>\n",
       "      <td>691</td>\n",
       "      <td>6</td>\n",
       "      <td>131</td>\n",
       "      <td>204</td>\n",
       "      <td>52</td>\n",
       "      <td>1</td>\n",
       "      <td>76</td>\n",
       "      <td>409</td>\n",
       "      <td>496</td>\n",
       "      <td>65</td>\n",
       "    </tr>\n",
       "    <tr>\n",
       "      <th>109</th>\n",
       "      <td>2022</td>\n",
       "      <td>50</td>\n",
       "      <td>1</td>\n",
       "      <td>50</td>\n",
       "      <td>3</td>\n",
       "      <td>43</td>\n",
       "      <td>32</td>\n",
       "      <td>12</td>\n",
       "      <td>1</td>\n",
       "      <td>29</td>\n",
       "      <td>41</td>\n",
       "      <td>48</td>\n",
       "      <td>26</td>\n",
       "    </tr>\n",
       "  </tbody>\n",
       "</table>\n",
       "<p>110 rows × 13 columns</p>\n",
       "</div>"
      ],
      "text/plain": [
       "     release_year  title  type  description  age_certification  runtime  \\\n",
       "0            1912      1     1            1                  1        1   \n",
       "1            1914      2     1            2                  1        2   \n",
       "2            1915      5     1            5                  1        3   \n",
       "3            1916      2     1            2                  1        2   \n",
       "4            1917      1     1            1                  1        1   \n",
       "..            ...    ...   ...          ...                ...      ...   \n",
       "105          2018    568     1          559                  6      119   \n",
       "106          2019    703     1          695                  5      134   \n",
       "107          2020    574     1          554                  6      122   \n",
       "108          2021    713     1          691                  6      131   \n",
       "109          2022     50     1           50                  3       43   \n",
       "\n",
       "     genres  production_countries  seasons  imdb_score  imdb_votes  \\\n",
       "0         1                     1        1           1           1   \n",
       "1         2                     1        1           2           2   \n",
       "2         4                     1        1           4           5   \n",
       "3         2                     1        1           2           2   \n",
       "4         1                     1        1           1           1   \n",
       "..      ...                   ...      ...         ...         ...   \n",
       "105     217                    83        1          66         428   \n",
       "106     252                   102        1          68         473   \n",
       "107     178                    62        1          69         344   \n",
       "108     204                    52        1          76         409   \n",
       "109      32                    12        1          29          41   \n",
       "\n",
       "     tmdb_popularity  tmdb_score  \n",
       "0                  1           1  \n",
       "1                  2           2  \n",
       "2                  5           4  \n",
       "3                  2           2  \n",
       "4                  1           1  \n",
       "..               ...         ...  \n",
       "105              439          57  \n",
       "106              545          66  \n",
       "107              428          62  \n",
       "108              496          65  \n",
       "109               48          26  \n",
       "\n",
       "[110 rows x 13 columns]"
      ]
     },
     "execution_count": 45,
     "metadata": {},
     "output_type": "execute_result"
    }
   ],
   "source": [
    "dfgrp5_2 = df[df['type'] == 'MOVIE'].groupby(['release_year'])\n",
    "dfgrp5_2 = dfgrp5_2.nunique().reset_index()\n",
    "dfgrp5_2\n"
   ]
  },
  {
   "cell_type": "code",
   "execution_count": 46,
   "id": "471d7389",
   "metadata": {},
   "outputs": [
    {
     "data": {
      "image/png": "[encoded data removed]",
      "text/plain": [
       "<Figure size 432x288 with 1 Axes>"
      ]
     },
     "metadata": {
      "needs_background": "light"
     },
     "output_type": "display_data"
    }
   ],
   "source": [
    "plt.plot(dfgrp5_2['release_year'] , dfgrp5_2['title'])\n",
    "plt.show()"
   ]
  },
  {
   "cell_type": "code",
   "execution_count": null,
   "id": "38cb428e",
   "metadata": {},
   "outputs": [],
   "source": []
  }
 ],
 "metadata": {
  "kernelspec": {
   "display_name": "Python 3",
   "language": "python",
   "name": "python3"
  },
  "language_info": {
   "codemirror_mode": {
    "name": "ipython",
    "version": 3
   },
   "file_extension": ".py",
   "mimetype": "text/x-python",
   "name": "python",
   "nbconvert_exporter": "python",
   "pygments_lexer": "ipython3",
   "version": "3.8.10"
  }
 },
 "nbformat": 4,
 "nbformat_minor": 5
}
