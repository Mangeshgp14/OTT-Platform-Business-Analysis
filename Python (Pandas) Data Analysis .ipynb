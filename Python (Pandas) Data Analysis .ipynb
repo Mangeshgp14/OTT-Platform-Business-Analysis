{
 "cells": [
  {
   "cell_type": "code",
   "execution_count": 1,
   "id": "47890b57",
   "metadata": {},
   "outputs": [],
   "source": [
    "import pandas as pd"
   ]
  },
  {
   "cell_type": "code",
   "execution_count": 2,
   "id": "f5cbe46e",
   "metadata": {},
   "outputs": [],
   "source": [
    "import matplotlib.pyplot as plt\n",
    "import seaborn as sns\n"
   ]
  },
  {
   "cell_type": "code",
   "execution_count": 3,
   "id": "ba51a4b7",
   "metadata": {},
   "outputs": [],
   "source": [
    "df = pd.read_csv(r'C:\\Users\\Mangesh\\Desktop\\1 month\\Projects\\OTT Platform Business Analysis\\Dataset\\cleaned_dataset.csv')"
   ]
  },
  {
   "cell_type": "code",
   "execution_count": 4,
   "id": "7ffbd68c",
   "metadata": {},
   "outputs": [
    {
     "data": {
      "text/html": [
       "<div>\n",
       "<style scoped>\n",
       "    .dataframe tbody tr th:only-of-type {\n",
       "        vertical-align: middle;\n",
       "    }\n",
       "\n",
       "    .dataframe tbody tr th {\n",
       "        vertical-align: top;\n",
       "    }\n",
       "\n",
       "    .dataframe thead th {\n",
       "        text-align: right;\n",
       "    }\n",
       "</style>\n",
       "<table border=\"1\" class=\"dataframe\">\n",
       "  <thead>\n",
       "    <tr style=\"text-align: right;\">\n",
       "      <th></th>\n",
       "      <th>title</th>\n",
       "      <th>type</th>\n",
       "      <th>description</th>\n",
       "      <th>release_year</th>\n",
       "      <th>age_certification</th>\n",
       "      <th>runtime</th>\n",
       "      <th>genres</th>\n",
       "      <th>production_countries</th>\n",
       "      <th>seasons</th>\n",
       "      <th>imdb_score</th>\n",
       "      <th>imdb_votes</th>\n",
       "      <th>tmdb_popularity</th>\n",
       "      <th>tmdb_score</th>\n",
       "    </tr>\n",
       "  </thead>\n",
       "  <tbody>\n",
       "    <tr>\n",
       "      <th>0</th>\n",
       "      <td>The Three Stooges</td>\n",
       "      <td>SHOW</td>\n",
       "      <td>The Three Stooges were an American vaudeville ...</td>\n",
       "      <td>1934</td>\n",
       "      <td>TV-PG</td>\n",
       "      <td>19</td>\n",
       "      <td>['comedy', 'family', 'animation', 'action', 'f...</td>\n",
       "      <td>['US']</td>\n",
       "      <td>26.0</td>\n",
       "      <td>8.6</td>\n",
       "      <td>1092.0</td>\n",
       "      <td>15.424</td>\n",
       "      <td>7.6</td>\n",
       "    </tr>\n",
       "    <tr>\n",
       "      <th>1</th>\n",
       "      <td>The General</td>\n",
       "      <td>MOVIE</td>\n",
       "      <td>During America’s Civil War, Union spies steal ...</td>\n",
       "      <td>1926</td>\n",
       "      <td>TV-G</td>\n",
       "      <td>78</td>\n",
       "      <td>['action', 'drama', 'war', 'western', 'comedy'...</td>\n",
       "      <td>['US']</td>\n",
       "      <td>Not Applicable</td>\n",
       "      <td>8.2</td>\n",
       "      <td>89766.0</td>\n",
       "      <td>8.647</td>\n",
       "      <td>8.0</td>\n",
       "    </tr>\n",
       "    <tr>\n",
       "      <th>2</th>\n",
       "      <td>The Best Years of Our Lives</td>\n",
       "      <td>MOVIE</td>\n",
       "      <td>It's the hope that sustains the spirit of ever...</td>\n",
       "      <td>1946</td>\n",
       "      <td>TV-G</td>\n",
       "      <td>171</td>\n",
       "      <td>['romance', 'war', 'drama']</td>\n",
       "      <td>['US']</td>\n",
       "      <td>Not Applicable</td>\n",
       "      <td>8.1</td>\n",
       "      <td>63026.0</td>\n",
       "      <td>8.435</td>\n",
       "      <td>7.8</td>\n",
       "    </tr>\n",
       "    <tr>\n",
       "      <th>3</th>\n",
       "      <td>His Girl Friday</td>\n",
       "      <td>MOVIE</td>\n",
       "      <td>Hildy, the journalist former wife of newspaper...</td>\n",
       "      <td>1940</td>\n",
       "      <td>TV-G</td>\n",
       "      <td>92</td>\n",
       "      <td>['comedy', 'drama', 'romance']</td>\n",
       "      <td>['US']</td>\n",
       "      <td>Not Applicable</td>\n",
       "      <td>7.8</td>\n",
       "      <td>57835.0</td>\n",
       "      <td>11.270</td>\n",
       "      <td>7.4</td>\n",
       "    </tr>\n",
       "    <tr>\n",
       "      <th>4</th>\n",
       "      <td>In a Lonely Place</td>\n",
       "      <td>MOVIE</td>\n",
       "      <td>An aspiring actress begins to suspect that her...</td>\n",
       "      <td>1950</td>\n",
       "      <td>TV-G</td>\n",
       "      <td>94</td>\n",
       "      <td>['thriller', 'drama', 'romance']</td>\n",
       "      <td>['US']</td>\n",
       "      <td>Not Applicable</td>\n",
       "      <td>7.9</td>\n",
       "      <td>30924.0</td>\n",
       "      <td>8.273</td>\n",
       "      <td>7.6</td>\n",
       "    </tr>\n",
       "  </tbody>\n",
       "</table>\n",
       "</div>"
      ],
      "text/plain": [
       "                         title   type  \\\n",
       "0            The Three Stooges   SHOW   \n",
       "1                  The General  MOVIE   \n",
       "2  The Best Years of Our Lives  MOVIE   \n",
       "3              His Girl Friday  MOVIE   \n",
       "4            In a Lonely Place  MOVIE   \n",
       "\n",
       "                                         description  release_year  \\\n",
       "0  The Three Stooges were an American vaudeville ...          1934   \n",
       "1  During America’s Civil War, Union spies steal ...          1926   \n",
       "2  It's the hope that sustains the spirit of ever...          1946   \n",
       "3  Hildy, the journalist former wife of newspaper...          1940   \n",
       "4  An aspiring actress begins to suspect that her...          1950   \n",
       "\n",
       "  age_certification  runtime  \\\n",
       "0             TV-PG       19   \n",
       "1              TV-G       78   \n",
       "2              TV-G      171   \n",
       "3              TV-G       92   \n",
       "4              TV-G       94   \n",
       "\n",
       "                                              genres production_countries  \\\n",
       "0  ['comedy', 'family', 'animation', 'action', 'f...               ['US']   \n",
       "1  ['action', 'drama', 'war', 'western', 'comedy'...               ['US']   \n",
       "2                        ['romance', 'war', 'drama']               ['US']   \n",
       "3                     ['comedy', 'drama', 'romance']               ['US']   \n",
       "4                   ['thriller', 'drama', 'romance']               ['US']   \n",
       "\n",
       "          seasons  imdb_score  imdb_votes  tmdb_popularity  tmdb_score  \n",
       "0            26.0         8.6      1092.0           15.424         7.6  \n",
       "1  Not Applicable         8.2     89766.0            8.647         8.0  \n",
       "2  Not Applicable         8.1     63026.0            8.435         7.8  \n",
       "3  Not Applicable         7.8     57835.0           11.270         7.4  \n",
       "4  Not Applicable         7.9     30924.0            8.273         7.6  "
      ]
     },
     "execution_count": 4,
     "metadata": {},
     "output_type": "execute_result"
    }
   ],
   "source": [
    "df.head()"
   ]
  },
  {
   "cell_type": "code",
   "execution_count": 5,
   "id": "7b620d46",
   "metadata": {},
   "outputs": [
    {
     "data": {
      "text/plain": [
       "Index(['title', 'type', 'description', 'release_year', 'age_certification',\n",
       "       'runtime', 'genres', 'production_countries', 'seasons', 'imdb_score',\n",
       "       'imdb_votes', 'tmdb_popularity', 'tmdb_score'],\n",
       "      dtype='object')"
      ]
     },
     "execution_count": 5,
     "metadata": {},
     "output_type": "execute_result"
    }
   ],
   "source": [
    "df.columns"
   ]
  },
  {
   "cell_type": "markdown",
   "id": "38a7b4c4",
   "metadata": {},
   "source": [
    "# 1. Identifying the different types of content available on the platform. "
   ]
  },
  {
   "cell_type": "raw",
   "id": "e4f43add",
   "metadata": {},
   "source": [
    "1.1 Movies v/s Shows\n",
    "- We will have a look at the distribution of content available on the platform in these two categories\n",
    "- A pie chart can be used visualize this distribution"
   ]
  },
  {
   "cell_type": "code",
   "execution_count": 6,
   "id": "5ca26c08",
   "metadata": {},
   "outputs": [],
   "source": [
    "dfgrp1 = df.groupby(['type']).nunique().reset_index()"
   ]
  },
  {
   "cell_type": "code",
   "execution_count": 7,
   "id": "7ed9d961",
   "metadata": {},
   "outputs": [
    {
     "data": {
      "text/html": [
       "<div>\n",
       "<style scoped>\n",
       "    .dataframe tbody tr th:only-of-type {\n",
       "        vertical-align: middle;\n",
       "    }\n",
       "\n",
       "    .dataframe tbody tr th {\n",
       "        vertical-align: top;\n",
       "    }\n",
       "\n",
       "    .dataframe thead th {\n",
       "        text-align: right;\n",
       "    }\n",
       "</style>\n",
       "<table border=\"1\" class=\"dataframe\">\n",
       "  <thead>\n",
       "    <tr style=\"text-align: right;\">\n",
       "      <th></th>\n",
       "      <th>type</th>\n",
       "      <th>title</th>\n",
       "    </tr>\n",
       "  </thead>\n",
       "  <tbody>\n",
       "    <tr>\n",
       "      <th>0</th>\n",
       "      <td>MOVIE</td>\n",
       "      <td>8418</td>\n",
       "    </tr>\n",
       "    <tr>\n",
       "      <th>1</th>\n",
       "      <td>SHOW</td>\n",
       "      <td>1355</td>\n",
       "    </tr>\n",
       "  </tbody>\n",
       "</table>\n",
       "</div>"
      ],
      "text/plain": [
       "    type  title\n",
       "0  MOVIE   8418\n",
       "1   SHOW   1355"
      ]
     },
     "execution_count": 7,
     "metadata": {},
     "output_type": "execute_result"
    }
   ],
   "source": [
    "dfgrp1[['type', 'title']]"
   ]
  },
  {
   "cell_type": "code",
   "execution_count": 8,
   "id": "713092fb",
   "metadata": {},
   "outputs": [],
   "source": [
    "dfgrp1['title'] = dfgrp1['title'].astype('float')"
   ]
  },
  {
   "cell_type": "code",
   "execution_count": 9,
   "id": "32ffefc9",
   "metadata": {},
   "outputs": [
    {
     "data": {
      "image/png": "[encoded data removed]",
      "text/plain": [
       "<Figure size 432x288 with 1 Axes>"
      ]
     },
     "metadata": {},
     "output_type": "display_data"
    }
   ],
   "source": [
    "plt.pie(dfgrp1['title'],labels = dfgrp1['type'] , autopct = '%1.0f%%', startangle = 90)\n",
    "plt.show()"
   ]
  },
  {
   "cell_type": "code",
   "execution_count": 10,
   "id": "b26dd4b9",
   "metadata": {},
   "outputs": [
    {
     "name": "stdout",
     "output_type": "stream",
     "text": [
      "<class 'pandas.core.frame.DataFrame'>\n",
      "RangeIndex: 9868 entries, 0 to 9867\n",
      "Data columns (total 13 columns):\n",
      " #   Column                Non-Null Count  Dtype  \n",
      "---  ------                --------------  -----  \n",
      " 0   title                 9868 non-null   object \n",
      " 1   type                  9868 non-null   object \n",
      " 2   description           9868 non-null   object \n",
      " 3   release_year          9868 non-null   int64  \n",
      " 4   age_certification     9868 non-null   object \n",
      " 5   runtime               9868 non-null   int64  \n",
      " 6   genres                9868 non-null   object \n",
      " 7   production_countries  9868 non-null   object \n",
      " 8   seasons               9868 non-null   object \n",
      " 9   imdb_score            9868 non-null   float64\n",
      " 10  imdb_votes            9868 non-null   float64\n",
      " 11  tmdb_popularity       9868 non-null   float64\n",
      " 12  tmdb_score            9868 non-null   float64\n",
      "dtypes: float64(4), int64(2), object(7)\n",
      "memory usage: 1002.3+ KB\n"
     ]
    }
   ],
   "source": [
    "df.info()"
   ]
  },
  {
   "cell_type": "code",
   "execution_count": 11,
   "id": "a88e2d00",
   "metadata": {},
   "outputs": [
    {
     "data": {
      "text/plain": [
       "<Axes: xlabel='production_countries', ylabel='percent'>"
      ]
     },
     "execution_count": 11,
     "metadata": {},
     "output_type": "execute_result"
    },
    {
     "data": {
      "image/png": "[encoded data removed]",
      "text/plain": [
       "<Figure size 432x288 with 1 Axes>"
      ]
     },
     "metadata": {
      "needs_background": "light"
     },
     "output_type": "display_data"
    }
   ],
   "source": [
    "sns.countplot(x='production_countries', data = df,order = df['production_countries'].value_counts().index[:8] ,\n",
    "              linewidth =5 , hue = 'production_countries',stat=\"percent\")"
   ]
  },
  {
   "cell_type": "code",
   "execution_count": 12,
   "id": "b717a27e",
   "metadata": {},
   "outputs": [
    {
     "data": {
      "text/plain": [
       "<Axes: xlabel='genres', ylabel='percent'>"
      ]
     },
     "execution_count": 12,
     "metadata": {},
     "output_type": "execute_result"
    },
    {
     "data": {
      "image/png": "[encoded data removed]",
      "text/plain": [
       "<Figure size 432x288 with 1 Axes>"
      ]
     },
     "metadata": {
      "needs_background": "light"
     },
     "output_type": "display_data"
    }
   ],
   "source": [
    "sns.countplot(x='genres', data = df,order = df['genres'].value_counts().index[:5] ,linewidth =5 ,hue = 'genres'\n",
    "              ,stat=\"percent\")"
   ]
  },
  {
   "cell_type": "code",
   "execution_count": 13,
   "id": "3bb6a884",
   "metadata": {},
   "outputs": [
    {
     "data": {
      "text/plain": [
       "<Axes: xlabel='age_certification', ylabel='percent'>"
      ]
     },
     "execution_count": 13,
     "metadata": {},
     "output_type": "execute_result"
    },
    {
     "data": {
      "image/png": "[encoded data removed]",
      "text/plain": [
       "<Figure size 432x288 with 1 Axes>"
      ]
     },
     "metadata": {
      "needs_background": "light"
     },
     "output_type": "display_data"
    }
   ],
   "source": [
    "sns.countplot(x='age_certification', data = df,order = df['age_certification'].value_counts().index[:5] ,\n",
    "              linewidth =5 , hue = 'age_certification',stat=\"percent\")"
   ]
  },
  {
   "cell_type": "markdown",
   "id": "12c34f68",
   "metadata": {},
   "source": [
    "# Study the popularity of different types of content around the world"
   ]
  },
  {
   "cell_type": "markdown",
   "id": "87e7a8da",
   "metadata": {},
   "source": [
    "1. Assessing the popularity of type of content"
   ]
  },
  {
   "cell_type": "code",
   "execution_count": 14,
   "id": "14ae7e7f",
   "metadata": {},
   "outputs": [],
   "source": [
    "dfgrp2 = df.groupby(['type'])"
   ]
  },
  {
   "cell_type": "code",
   "execution_count": 15,
   "id": "76027ffe",
   "metadata": {},
   "outputs": [],
   "source": [
    "dfgrp2 = dfgrp2[['imdb_score','tmdb_popularity','tmdb_score']].mean().reset_index()"
   ]
  },
  {
   "cell_type": "code",
   "execution_count": 16,
   "id": "a6a5b080",
   "metadata": {},
   "outputs": [
    {
     "data": {
      "text/html": [
       "<div>\n",
       "<style scoped>\n",
       "    .dataframe tbody tr th:only-of-type {\n",
       "        vertical-align: middle;\n",
       "    }\n",
       "\n",
       "    .dataframe tbody tr th {\n",
       "        vertical-align: top;\n",
       "    }\n",
       "\n",
       "    .dataframe thead th {\n",
       "        text-align: right;\n",
       "    }\n",
       "</style>\n",
       "<table border=\"1\" class=\"dataframe\">\n",
       "  <thead>\n",
       "    <tr style=\"text-align: right;\">\n",
       "      <th></th>\n",
       "      <th>imdb_score</th>\n",
       "      <th>tmdb_popularity</th>\n",
       "      <th>tmdb_score</th>\n",
       "    </tr>\n",
       "  </thead>\n",
       "  <tbody>\n",
       "    <tr>\n",
       "      <th>0</th>\n",
       "      <td>5.832147</td>\n",
       "      <td>5.604632</td>\n",
       "      <td>5.834038</td>\n",
       "    </tr>\n",
       "    <tr>\n",
       "      <th>1</th>\n",
       "      <td>6.975018</td>\n",
       "      <td>13.348922</td>\n",
       "      <td>6.949742</td>\n",
       "    </tr>\n",
       "  </tbody>\n",
       "</table>\n",
       "</div>"
      ],
      "text/plain": [
       "   imdb_score  tmdb_popularity  tmdb_score\n",
       "0    5.832147         5.604632    5.834038\n",
       "1    6.975018        13.348922    6.949742"
      ]
     },
     "execution_count": 16,
     "metadata": {},
     "output_type": "execute_result"
    }
   ],
   "source": [
    "dfgrp2[['imdb_score','tmdb_popularity','tmdb_score']]"
   ]
  },
  {
   "cell_type": "code",
   "execution_count": 17,
   "id": "4a7c9088",
   "metadata": {},
   "outputs": [
    {
     "data": {
      "text/plain": [
       "[]"
      ]
     },
     "execution_count": 17,
     "metadata": {},
     "output_type": "execute_result"
    },
    {
     "data": {
      "image/png": "[encoded data removed]",
      "text/plain": [
       "<Figure size 576x360 with 3 Axes>"
      ]
     },
     "metadata": {
      "needs_background": "light"
     },
     "output_type": "display_data"
    }
   ],
   "source": [
    "fig, ax = plt.subplots(1, 3, figsize=(8, 5), sharex=False, sharey=False)\n",
    "\n",
    "ax[0].bar(height = dfgrp2['imdb_score'] , x = dfgrp2['type'] )\n",
    "ax[1].bar(height = dfgrp2['tmdb_score'] , x = dfgrp2['type'] )\n",
    "ax[2].bar(height = dfgrp2['tmdb_popularity'] , x = dfgrp2['type'] )\n",
    "plt.plot()"
   ]
  },
  {
   "cell_type": "code",
   "execution_count": 18,
   "id": "6a972ee6",
   "metadata": {},
   "outputs": [
    {
     "data": {
      "text/html": [
       "<div>\n",
       "<style scoped>\n",
       "    .dataframe tbody tr th:only-of-type {\n",
       "        vertical-align: middle;\n",
       "    }\n",
       "\n",
       "    .dataframe tbody tr th {\n",
       "        vertical-align: top;\n",
       "    }\n",
       "\n",
       "    .dataframe thead th {\n",
       "        text-align: right;\n",
       "    }\n",
       "</style>\n",
       "<table border=\"1\" class=\"dataframe\">\n",
       "  <thead>\n",
       "    <tr style=\"text-align: right;\">\n",
       "      <th></th>\n",
       "      <th>imdb_score</th>\n",
       "      <th>tmdb_popularity</th>\n",
       "      <th>tmdb_score</th>\n",
       "    </tr>\n",
       "  </thead>\n",
       "  <tbody>\n",
       "    <tr>\n",
       "      <th>0</th>\n",
       "      <td>7.700000</td>\n",
       "      <td>1.101570</td>\n",
       "      <td>7.500000</td>\n",
       "    </tr>\n",
       "    <tr>\n",
       "      <th>1</th>\n",
       "      <td>7.100000</td>\n",
       "      <td>29.598000</td>\n",
       "      <td>7.400000</td>\n",
       "    </tr>\n",
       "    <tr>\n",
       "      <th>2</th>\n",
       "      <td>5.300000</td>\n",
       "      <td>49.848000</td>\n",
       "      <td>5.200000</td>\n",
       "    </tr>\n",
       "    <tr>\n",
       "      <th>3</th>\n",
       "      <td>8.100000</td>\n",
       "      <td>52.173000</td>\n",
       "      <td>8.500000</td>\n",
       "    </tr>\n",
       "    <tr>\n",
       "      <th>4</th>\n",
       "      <td>8.800000</td>\n",
       "      <td>12.306000</td>\n",
       "      <td>8.700000</td>\n",
       "    </tr>\n",
       "    <tr>\n",
       "      <th>...</th>\n",
       "      <td>...</td>\n",
       "      <td>...</td>\n",
       "      <td>...</td>\n",
       "    </tr>\n",
       "    <tr>\n",
       "      <th>2022</th>\n",
       "      <td>5.650000</td>\n",
       "      <td>4.603500</td>\n",
       "      <td>5.800000</td>\n",
       "    </tr>\n",
       "    <tr>\n",
       "      <th>2023</th>\n",
       "      <td>6.200000</td>\n",
       "      <td>5.925000</td>\n",
       "      <td>5.800000</td>\n",
       "    </tr>\n",
       "    <tr>\n",
       "      <th>2024</th>\n",
       "      <td>6.400000</td>\n",
       "      <td>7.146000</td>\n",
       "      <td>5.800000</td>\n",
       "    </tr>\n",
       "    <tr>\n",
       "      <th>2025</th>\n",
       "      <td>3.800000</td>\n",
       "      <td>1.952000</td>\n",
       "      <td>4.650000</td>\n",
       "    </tr>\n",
       "    <tr>\n",
       "      <th>2026</th>\n",
       "      <td>5.639823</td>\n",
       "      <td>1.780991</td>\n",
       "      <td>5.372566</td>\n",
       "    </tr>\n",
       "  </tbody>\n",
       "</table>\n",
       "<p>2027 rows × 3 columns</p>\n",
       "</div>"
      ],
      "text/plain": [
       "      imdb_score  tmdb_popularity  tmdb_score\n",
       "0       7.700000         1.101570    7.500000\n",
       "1       7.100000        29.598000    7.400000\n",
       "2       5.300000        49.848000    5.200000\n",
       "3       8.100000        52.173000    8.500000\n",
       "4       8.800000        12.306000    8.700000\n",
       "...          ...              ...         ...\n",
       "2022    5.650000         4.603500    5.800000\n",
       "2023    6.200000         5.925000    5.800000\n",
       "2024    6.400000         7.146000    5.800000\n",
       "2025    3.800000         1.952000    4.650000\n",
       "2026    5.639823         1.780991    5.372566\n",
       "\n",
       "[2027 rows x 3 columns]"
      ]
     },
     "execution_count": 18,
     "metadata": {},
     "output_type": "execute_result"
    }
   ],
   "source": [
    "dfgrp3 = df.groupby(['genres'])\n",
    "dfgrp3 = dfgrp3[['imdb_score','tmdb_popularity','tmdb_score']].mean().reset_index()\n",
    "dfgrp3[['imdb_score','tmdb_popularity','tmdb_score']]"
   ]
  },
  {
   "cell_type": "code",
   "execution_count": 19,
   "id": "d17a45e8",
   "metadata": {},
   "outputs": [],
   "source": [
    "dfgrp3_1 = dfgrp3.sort_values(by='imdb_score', ascending  = False).iloc[0:5]\n",
    "dfgrp3_2 = dfgrp3.sort_values(by='tmdb_score', ascending  = False).iloc[0:5]\n",
    "dfgrp3_3 = dfgrp3.sort_values(by='tmdb_popularity', ascending  = False).iloc[0:5]"
   ]
  },
  {
   "cell_type": "code",
   "execution_count": 20,
   "id": "d3a21444",
   "metadata": {},
   "outputs": [
    {
     "data": {
      "text/html": [
       "<div>\n",
       "<style scoped>\n",
       "    .dataframe tbody tr th:only-of-type {\n",
       "        vertical-align: middle;\n",
       "    }\n",
       "\n",
       "    .dataframe tbody tr th {\n",
       "        vertical-align: top;\n",
       "    }\n",
       "\n",
       "    .dataframe thead th {\n",
       "        text-align: right;\n",
       "    }\n",
       "</style>\n",
       "<table border=\"1\" class=\"dataframe\">\n",
       "  <thead>\n",
       "    <tr style=\"text-align: right;\">\n",
       "      <th></th>\n",
       "      <th>genres</th>\n",
       "      <th>imdb_score</th>\n",
       "    </tr>\n",
       "  </thead>\n",
       "  <tbody>\n",
       "    <tr>\n",
       "      <th>1209</th>\n",
       "      <td>['history', 'romance']</td>\n",
       "      <td>9.0</td>\n",
       "    </tr>\n",
       "    <tr>\n",
       "      <th>1350</th>\n",
       "      <td>['music', 'animation', 'action', 'comedy', 'dr...</td>\n",
       "      <td>9.0</td>\n",
       "    </tr>\n",
       "    <tr>\n",
       "      <th>957</th>\n",
       "      <td>['drama', 'sport', 'documentation']</td>\n",
       "      <td>8.9</td>\n",
       "    </tr>\n",
       "    <tr>\n",
       "      <th>1668</th>\n",
       "      <td>['sport', 'action', 'drama', 'family']</td>\n",
       "      <td>8.9</td>\n",
       "    </tr>\n",
       "    <tr>\n",
       "      <th>835</th>\n",
       "      <td>['drama', 'family', 'war', 'animation', 'europ...</td>\n",
       "      <td>8.9</td>\n",
       "    </tr>\n",
       "  </tbody>\n",
       "</table>\n",
       "</div>"
      ],
      "text/plain": [
       "                                                 genres  imdb_score\n",
       "1209                             ['history', 'romance']         9.0\n",
       "1350  ['music', 'animation', 'action', 'comedy', 'dr...         9.0\n",
       "957                 ['drama', 'sport', 'documentation']         8.9\n",
       "1668             ['sport', 'action', 'drama', 'family']         8.9\n",
       "835   ['drama', 'family', 'war', 'animation', 'europ...         8.9"
      ]
     },
     "execution_count": 20,
     "metadata": {},
     "output_type": "execute_result"
    }
   ],
   "source": [
    "dfgrp3_1[['genres','imdb_score']]"
   ]
  },
  {
   "cell_type": "code",
   "execution_count": 21,
   "id": "a43d3829",
   "metadata": {},
   "outputs": [
    {
     "data": {
      "image/png": "[encoded data removed]",
      "text/plain": [
       "<Figure size 432x288 with 1 Axes>"
      ]
     },
     "metadata": {
      "needs_background": "light"
     },
     "output_type": "display_data"
    }
   ],
   "source": [
    "plt.bar(height = dfgrp3_1['imdb_score'], x = dfgrp3_1['genres'])\n",
    "plt.xticks(x = dfgrp3_1['genres'], rotation = 'vertical')\n",
    "plt.xlabel('genres')\n",
    "plt.ylabel('average_imdb_score')\n",
    "plt.title('Highest Rated genres on imdb')\n",
    "plt.show()"
   ]
  },
  {
   "cell_type": "code",
   "execution_count": 22,
   "id": "e70b807c",
   "metadata": {},
   "outputs": [
    {
     "data": {
      "text/html": [
       "<div>\n",
       "<style scoped>\n",
       "    .dataframe tbody tr th:only-of-type {\n",
       "        vertical-align: middle;\n",
       "    }\n",
       "\n",
       "    .dataframe tbody tr th {\n",
       "        vertical-align: top;\n",
       "    }\n",
       "\n",
       "    .dataframe thead th {\n",
       "        text-align: right;\n",
       "    }\n",
       "</style>\n",
       "<table border=\"1\" class=\"dataframe\">\n",
       "  <thead>\n",
       "    <tr style=\"text-align: right;\">\n",
       "      <th></th>\n",
       "      <th>genres</th>\n",
       "      <th>tmdb_score</th>\n",
       "    </tr>\n",
       "  </thead>\n",
       "  <tbody>\n",
       "    <tr>\n",
       "      <th>1776</th>\n",
       "      <td>['thriller', 'documentation', 'western']</td>\n",
       "      <td>10.0</td>\n",
       "    </tr>\n",
       "    <tr>\n",
       "      <th>78</th>\n",
       "      <td>['action', 'drama', 'horror', 'scifi', 'thrill...</td>\n",
       "      <td>10.0</td>\n",
       "    </tr>\n",
       "    <tr>\n",
       "      <th>568</th>\n",
       "      <td>['crime', 'scifi', 'action']</td>\n",
       "      <td>10.0</td>\n",
       "    </tr>\n",
       "    <tr>\n",
       "      <th>1073</th>\n",
       "      <td>['family', 'fantasy', 'scifi', 'animation']</td>\n",
       "      <td>10.0</td>\n",
       "    </tr>\n",
       "    <tr>\n",
       "      <th>1078</th>\n",
       "      <td>['family', 'romance']</td>\n",
       "      <td>10.0</td>\n",
       "    </tr>\n",
       "  </tbody>\n",
       "</table>\n",
       "</div>"
      ],
      "text/plain": [
       "                                                 genres  tmdb_score\n",
       "1776           ['thriller', 'documentation', 'western']        10.0\n",
       "78    ['action', 'drama', 'horror', 'scifi', 'thrill...        10.0\n",
       "568                        ['crime', 'scifi', 'action']        10.0\n",
       "1073        ['family', 'fantasy', 'scifi', 'animation']        10.0\n",
       "1078                              ['family', 'romance']        10.0"
      ]
     },
     "execution_count": 22,
     "metadata": {},
     "output_type": "execute_result"
    }
   ],
   "source": [
    "dfgrp3_2[['genres','tmdb_score']]"
   ]
  },
  {
   "cell_type": "code",
   "execution_count": 23,
   "id": "251eea51",
   "metadata": {},
   "outputs": [
    {
     "data": {
      "image/png": "[encoded data removed]",
      "text/plain": [
       "<Figure size 432x288 with 1 Axes>"
      ]
     },
     "metadata": {
      "needs_background": "light"
     },
     "output_type": "display_data"
    }
   ],
   "source": [
    "plt.bar(height = dfgrp3_2['tmdb_score'], x = dfgrp3_2['genres'])\n",
    "plt.xticks(x = dfgrp3_2['genres'], rotation = 'vertical')\n",
    "plt.xlabel('genres')\n",
    "plt.ylabel('average_tmdb_score')\n",
    "plt.title('Highest Rated genres on tmdb')\n",
    "plt.show()"
   ]
  },
  {
   "cell_type": "code",
   "execution_count": 24,
   "id": "809ff02f",
   "metadata": {},
   "outputs": [
    {
     "data": {
      "text/html": [
       "<div>\n",
       "<style scoped>\n",
       "    .dataframe tbody tr th:only-of-type {\n",
       "        vertical-align: middle;\n",
       "    }\n",
       "\n",
       "    .dataframe tbody tr th {\n",
       "        vertical-align: top;\n",
       "    }\n",
       "\n",
       "    .dataframe thead th {\n",
       "        text-align: right;\n",
       "    }\n",
       "</style>\n",
       "<table border=\"1\" class=\"dataframe\">\n",
       "  <thead>\n",
       "    <tr style=\"text-align: right;\">\n",
       "      <th></th>\n",
       "      <th>genres</th>\n",
       "      <th>tmdb_popularity</th>\n",
       "    </tr>\n",
       "  </thead>\n",
       "  <tbody>\n",
       "    <tr>\n",
       "      <th>1160</th>\n",
       "      <td>['fantasy', 'romance', 'animation', 'comedy', ...</td>\n",
       "      <td>934.545</td>\n",
       "    </tr>\n",
       "    <tr>\n",
       "      <th>1513</th>\n",
       "      <td>['scifi', 'action', 'comedy', 'family', 'fanta...</td>\n",
       "      <td>893.650</td>\n",
       "    </tr>\n",
       "    <tr>\n",
       "      <th>1106</th>\n",
       "      <td>['fantasy', 'comedy', 'family', 'animation', '...</td>\n",
       "      <td>482.744</td>\n",
       "    </tr>\n",
       "    <tr>\n",
       "      <th>1338</th>\n",
       "      <td>['horror', 'thriller', 'drama', 'scifi']</td>\n",
       "      <td>389.431</td>\n",
       "    </tr>\n",
       "    <tr>\n",
       "      <th>100</th>\n",
       "      <td>['action', 'drama', 'war', 'history', 'romance...</td>\n",
       "      <td>344.245</td>\n",
       "    </tr>\n",
       "  </tbody>\n",
       "</table>\n",
       "</div>"
      ],
      "text/plain": [
       "                                                 genres  tmdb_popularity\n",
       "1160  ['fantasy', 'romance', 'animation', 'comedy', ...          934.545\n",
       "1513  ['scifi', 'action', 'comedy', 'family', 'fanta...          893.650\n",
       "1106  ['fantasy', 'comedy', 'family', 'animation', '...          482.744\n",
       "1338           ['horror', 'thriller', 'drama', 'scifi']          389.431\n",
       "100   ['action', 'drama', 'war', 'history', 'romance...          344.245"
      ]
     },
     "execution_count": 24,
     "metadata": {},
     "output_type": "execute_result"
    }
   ],
   "source": [
    "dfgrp3_3[['genres','tmdb_popularity']]"
   ]
  },
  {
   "cell_type": "code",
   "execution_count": 25,
   "id": "19abc46b",
   "metadata": {},
   "outputs": [
    {
     "data": {
      "image/png": "[encoded data removed]",
      "text/plain": [
       "<Figure size 432x288 with 1 Axes>"
      ]
     },
     "metadata": {
      "needs_background": "light"
     },
     "output_type": "display_data"
    }
   ],
   "source": [
    "plt.bar(height = dfgrp3_3['tmdb_popularity'], x = dfgrp3_2['genres'])\n",
    "plt.xticks(x = dfgrp3_3['genres'], rotation = 'vertical')\n",
    "plt.xlabel('genres')\n",
    "plt.ylabel('average_tmdb_popularity')\n",
    "plt.title('Most Popular genres on tmdb')\n",
    "plt.show()"
   ]
  },
  {
   "cell_type": "code",
   "execution_count": 26,
   "id": "a0e5b675",
   "metadata": {},
   "outputs": [
    {
     "data": {
      "text/html": [
       "<div>\n",
       "<style scoped>\n",
       "    .dataframe tbody tr th:only-of-type {\n",
       "        vertical-align: middle;\n",
       "    }\n",
       "\n",
       "    .dataframe tbody tr th {\n",
       "        vertical-align: top;\n",
       "    }\n",
       "\n",
       "    .dataframe thead th {\n",
       "        text-align: right;\n",
       "    }\n",
       "</style>\n",
       "<table border=\"1\" class=\"dataframe\">\n",
       "  <thead>\n",
       "    <tr style=\"text-align: right;\">\n",
       "      <th></th>\n",
       "      <th>production_countries</th>\n",
       "      <th>imdb_score</th>\n",
       "      <th>imdb_votes</th>\n",
       "      <th>tmdb_popularity</th>\n",
       "    </tr>\n",
       "  </thead>\n",
       "  <tbody>\n",
       "    <tr>\n",
       "      <th>245</th>\n",
       "      <td>['HU']</td>\n",
       "      <td>9.0</td>\n",
       "      <td>5.0</td>\n",
       "      <td>3.340</td>\n",
       "    </tr>\n",
       "    <tr>\n",
       "      <th>12</th>\n",
       "      <td>['AU', 'CA', 'GB']</td>\n",
       "      <td>8.8</td>\n",
       "      <td>19.0</td>\n",
       "      <td>0.916</td>\n",
       "    </tr>\n",
       "    <tr>\n",
       "      <th>263</th>\n",
       "      <td>['IN', 'RU', 'GB']</td>\n",
       "      <td>8.7</td>\n",
       "      <td>38921.0</td>\n",
       "      <td>4.592</td>\n",
       "    </tr>\n",
       "    <tr>\n",
       "      <th>414</th>\n",
       "      <td>['US', 'AL', 'GE', 'XK']</td>\n",
       "      <td>8.7</td>\n",
       "      <td>4633.0</td>\n",
       "      <td>2.784</td>\n",
       "    </tr>\n",
       "    <tr>\n",
       "      <th>84</th>\n",
       "      <td>['CU', 'GB']</td>\n",
       "      <td>8.6</td>\n",
       "      <td>80.0</td>\n",
       "      <td>0.600</td>\n",
       "    </tr>\n",
       "  </tbody>\n",
       "</table>\n",
       "</div>"
      ],
      "text/plain": [
       "         production_countries  imdb_score  imdb_votes  tmdb_popularity\n",
       "245                    ['HU']         9.0         5.0            3.340\n",
       "12         ['AU', 'CA', 'GB']         8.8        19.0            0.916\n",
       "263        ['IN', 'RU', 'GB']         8.7     38921.0            4.592\n",
       "414  ['US', 'AL', 'GE', 'XK']         8.7      4633.0            2.784\n",
       "84               ['CU', 'GB']         8.6        80.0            0.600"
      ]
     },
     "execution_count": 26,
     "metadata": {},
     "output_type": "execute_result"
    }
   ],
   "source": [
    "dfgrp6 = df.groupby(['production_countries'])\n",
    "dfgrp6 = dfgrp6[['imdb_score', 'imdb_votes','tmdb_popularity']].mean().reset_index()\n",
    "dfgrp6_1 = dfgrp6.sort_values(by=['imdb_score','imdb_votes'], ascending  = [False,False]).iloc[0:5]\n",
    "dfgrp6_1"
   ]
  },
  {
   "cell_type": "code",
   "execution_count": 27,
   "id": "1bcddf63",
   "metadata": {},
   "outputs": [
    {
     "data": {
      "text/html": [
       "<div>\n",
       "<style scoped>\n",
       "    .dataframe tbody tr th:only-of-type {\n",
       "        vertical-align: middle;\n",
       "    }\n",
       "\n",
       "    .dataframe tbody tr th {\n",
       "        vertical-align: top;\n",
       "    }\n",
       "\n",
       "    .dataframe thead th {\n",
       "        text-align: right;\n",
       "    }\n",
       "</style>\n",
       "<table border=\"1\" class=\"dataframe\">\n",
       "  <thead>\n",
       "    <tr style=\"text-align: right;\">\n",
       "      <th></th>\n",
       "      <th>production_countries</th>\n",
       "      <th>imdb_score</th>\n",
       "      <th>imdb_votes</th>\n",
       "      <th>tmdb_popularity</th>\n",
       "    </tr>\n",
       "  </thead>\n",
       "  <tbody>\n",
       "    <tr>\n",
       "      <th>298</th>\n",
       "      <td>['JP', 'US']</td>\n",
       "      <td>5.525</td>\n",
       "      <td>37622.5</td>\n",
       "      <td>231.2145</td>\n",
       "    </tr>\n",
       "    <tr>\n",
       "      <th>423</th>\n",
       "      <td>['US', 'CA', 'JP']</td>\n",
       "      <td>5.300</td>\n",
       "      <td>35173.0</td>\n",
       "      <td>182.7380</td>\n",
       "    </tr>\n",
       "    <tr>\n",
       "      <th>16</th>\n",
       "      <td>['AU', 'GB', 'US']</td>\n",
       "      <td>6.200</td>\n",
       "      <td>231965.0</td>\n",
       "      <td>174.6070</td>\n",
       "    </tr>\n",
       "    <tr>\n",
       "      <th>45</th>\n",
       "      <td>['CA', 'GB', 'US']</td>\n",
       "      <td>5.675</td>\n",
       "      <td>19968.0</td>\n",
       "      <td>129.6260</td>\n",
       "    </tr>\n",
       "    <tr>\n",
       "      <th>443</th>\n",
       "      <td>['US', 'GB', 'NZ']</td>\n",
       "      <td>6.600</td>\n",
       "      <td>167883.0</td>\n",
       "      <td>102.0730</td>\n",
       "    </tr>\n",
       "  </tbody>\n",
       "</table>\n",
       "</div>"
      ],
      "text/plain": [
       "    production_countries  imdb_score  imdb_votes  tmdb_popularity\n",
       "298         ['JP', 'US']       5.525     37622.5         231.2145\n",
       "423   ['US', 'CA', 'JP']       5.300     35173.0         182.7380\n",
       "16    ['AU', 'GB', 'US']       6.200    231965.0         174.6070\n",
       "45    ['CA', 'GB', 'US']       5.675     19968.0         129.6260\n",
       "443   ['US', 'GB', 'NZ']       6.600    167883.0         102.0730"
      ]
     },
     "execution_count": 27,
     "metadata": {},
     "output_type": "execute_result"
    }
   ],
   "source": [
    "dfgrp6_2 = dfgrp6.sort_values(by='tmdb_popularity', ascending  = False).iloc[0:5]\n",
    "dfgrp6_2"
   ]
  },
  {
   "cell_type": "code",
   "execution_count": 30,
   "id": "2a453672",
   "metadata": {},
   "outputs": [
    {
     "data": {
      "text/html": [
       "<div>\n",
       "<style scoped>\n",
       "    .dataframe tbody tr th:only-of-type {\n",
       "        vertical-align: middle;\n",
       "    }\n",
       "\n",
       "    .dataframe tbody tr th {\n",
       "        vertical-align: top;\n",
       "    }\n",
       "\n",
       "    .dataframe thead th {\n",
       "        text-align: right;\n",
       "    }\n",
       "</style>\n",
       "<table border=\"1\" class=\"dataframe\">\n",
       "  <thead>\n",
       "    <tr style=\"text-align: right;\">\n",
       "      <th></th>\n",
       "      <th>age_certification</th>\n",
       "      <th>imdb_score</th>\n",
       "      <th>imdb_votes</th>\n",
       "      <th>tmdb_popularity</th>\n",
       "    </tr>\n",
       "  </thead>\n",
       "  <tbody>\n",
       "    <tr>\n",
       "      <th>8</th>\n",
       "      <td>TV-PG</td>\n",
       "      <td>7.372527</td>\n",
       "      <td>10387.582418</td>\n",
       "      <td>15.137978</td>\n",
       "    </tr>\n",
       "    <tr>\n",
       "      <th>7</th>\n",
       "      <td>TV-MA</td>\n",
       "      <td>7.335945</td>\n",
       "      <td>29038.668203</td>\n",
       "      <td>27.245774</td>\n",
       "    </tr>\n",
       "    <tr>\n",
       "      <th>5</th>\n",
       "      <td>TV-14</td>\n",
       "      <td>6.976596</td>\n",
       "      <td>20704.920213</td>\n",
       "      <td>21.873359</td>\n",
       "    </tr>\n",
       "    <tr>\n",
       "      <th>10</th>\n",
       "      <td>TV-Y7</td>\n",
       "      <td>6.619231</td>\n",
       "      <td>3797.211538</td>\n",
       "      <td>15.524365</td>\n",
       "    </tr>\n",
       "    <tr>\n",
       "      <th>9</th>\n",
       "      <td>TV-Y</td>\n",
       "      <td>6.479487</td>\n",
       "      <td>1337.185897</td>\n",
       "      <td>10.350731</td>\n",
       "    </tr>\n",
       "  </tbody>\n",
       "</table>\n",
       "</div>"
      ],
      "text/plain": [
       "   age_certification  imdb_score    imdb_votes  tmdb_popularity\n",
       "8              TV-PG    7.372527  10387.582418        15.137978\n",
       "7              TV-MA    7.335945  29038.668203        27.245774\n",
       "5              TV-14    6.976596  20704.920213        21.873359\n",
       "10             TV-Y7    6.619231   3797.211538        15.524365\n",
       "9               TV-Y    6.479487   1337.185897        10.350731"
      ]
     },
     "execution_count": 30,
     "metadata": {},
     "output_type": "execute_result"
    }
   ],
   "source": [
    "df_age_cert = df.groupby(['age_certification'])\n",
    "df_age_cert = df_age_cert[['imdb_score', 'imdb_votes','tmdb_popularity']].mean().reset_index()\n",
    "df_age_cert_imdb = df_age_cert.sort_values(by=['imdb_score'], ascending  = [False]).iloc[0:5]\n",
    "df_age_cert_imdb"
   ]
  },
  {
   "cell_type": "code",
   "execution_count": 31,
   "id": "67aa837f",
   "metadata": {},
   "outputs": [
    {
     "data": {
      "text/html": [
       "<div>\n",
       "<style scoped>\n",
       "    .dataframe tbody tr th:only-of-type {\n",
       "        vertical-align: middle;\n",
       "    }\n",
       "\n",
       "    .dataframe tbody tr th {\n",
       "        vertical-align: top;\n",
       "    }\n",
       "\n",
       "    .dataframe thead th {\n",
       "        text-align: right;\n",
       "    }\n",
       "</style>\n",
       "<table border=\"1\" class=\"dataframe\">\n",
       "  <thead>\n",
       "    <tr style=\"text-align: right;\">\n",
       "      <th></th>\n",
       "      <th>age_certification</th>\n",
       "      <th>imdb_score</th>\n",
       "      <th>imdb_votes</th>\n",
       "      <th>tmdb_popularity</th>\n",
       "    </tr>\n",
       "  </thead>\n",
       "  <tbody>\n",
       "    <tr>\n",
       "      <th>7</th>\n",
       "      <td>TV-MA</td>\n",
       "      <td>7.335945</td>\n",
       "      <td>29038.668203</td>\n",
       "      <td>27.245774</td>\n",
       "    </tr>\n",
       "    <tr>\n",
       "      <th>5</th>\n",
       "      <td>TV-14</td>\n",
       "      <td>6.976596</td>\n",
       "      <td>20704.920213</td>\n",
       "      <td>21.873359</td>\n",
       "    </tr>\n",
       "    <tr>\n",
       "      <th>10</th>\n",
       "      <td>TV-Y7</td>\n",
       "      <td>6.619231</td>\n",
       "      <td>3797.211538</td>\n",
       "      <td>15.524365</td>\n",
       "    </tr>\n",
       "    <tr>\n",
       "      <th>8</th>\n",
       "      <td>TV-PG</td>\n",
       "      <td>7.372527</td>\n",
       "      <td>10387.582418</td>\n",
       "      <td>15.137978</td>\n",
       "    </tr>\n",
       "    <tr>\n",
       "      <th>3</th>\n",
       "      <td>PG-13</td>\n",
       "      <td>5.984014</td>\n",
       "      <td>33801.960034</td>\n",
       "      <td>11.290699</td>\n",
       "    </tr>\n",
       "  </tbody>\n",
       "</table>\n",
       "</div>"
      ],
      "text/plain": [
       "   age_certification  imdb_score    imdb_votes  tmdb_popularity\n",
       "7              TV-MA    7.335945  29038.668203        27.245774\n",
       "5              TV-14    6.976596  20704.920213        21.873359\n",
       "10             TV-Y7    6.619231   3797.211538        15.524365\n",
       "8              TV-PG    7.372527  10387.582418        15.137978\n",
       "3              PG-13    5.984014  33801.960034        11.290699"
      ]
     },
     "execution_count": 31,
     "metadata": {},
     "output_type": "execute_result"
    }
   ],
   "source": [
    "df_age_cert_tmdb = df_age_cert.sort_values(by=['tmdb_popularity'], ascending  = [False]).iloc[0:5]\n",
    "df_age_cert_tmdb"
   ]
  },
  {
   "cell_type": "markdown",
   "id": "662f545a",
   "metadata": {},
   "source": [
    "# Analyzing the trends over the years "
   ]
  },
  {
   "cell_type": "markdown",
   "id": "00f926c5",
   "metadata": {},
   "source": [
    "1. Trend in the production of shows over the years"
   ]
  },
  {
   "cell_type": "code",
   "execution_count": 32,
   "id": "55950465",
   "metadata": {
    "scrolled": true
   },
   "outputs": [
    {
     "data": {
      "text/html": [
       "<div>\n",
       "<style scoped>\n",
       "    .dataframe tbody tr th:only-of-type {\n",
       "        vertical-align: middle;\n",
       "    }\n",
       "\n",
       "    .dataframe tbody tr th {\n",
       "        vertical-align: top;\n",
       "    }\n",
       "\n",
       "    .dataframe thead th {\n",
       "        text-align: right;\n",
       "    }\n",
       "</style>\n",
       "<table border=\"1\" class=\"dataframe\">\n",
       "  <thead>\n",
       "    <tr style=\"text-align: right;\">\n",
       "      <th></th>\n",
       "      <th>release_year</th>\n",
       "      <th>title</th>\n",
       "      <th>type</th>\n",
       "      <th>description</th>\n",
       "      <th>age_certification</th>\n",
       "      <th>runtime</th>\n",
       "      <th>genres</th>\n",
       "      <th>production_countries</th>\n",
       "      <th>seasons</th>\n",
       "      <th>imdb_score</th>\n",
       "      <th>imdb_votes</th>\n",
       "      <th>tmdb_popularity</th>\n",
       "      <th>tmdb_score</th>\n",
       "    </tr>\n",
       "  </thead>\n",
       "  <tbody>\n",
       "    <tr>\n",
       "      <th>0</th>\n",
       "      <td>1934</td>\n",
       "      <td>1</td>\n",
       "      <td>1</td>\n",
       "      <td>1</td>\n",
       "      <td>1</td>\n",
       "      <td>1</td>\n",
       "      <td>1</td>\n",
       "      <td>1</td>\n",
       "      <td>1</td>\n",
       "      <td>1</td>\n",
       "      <td>1</td>\n",
       "      <td>1</td>\n",
       "      <td>1</td>\n",
       "    </tr>\n",
       "    <tr>\n",
       "      <th>1</th>\n",
       "      <td>1950</td>\n",
       "      <td>1</td>\n",
       "      <td>1</td>\n",
       "      <td>1</td>\n",
       "      <td>1</td>\n",
       "      <td>1</td>\n",
       "      <td>1</td>\n",
       "      <td>1</td>\n",
       "      <td>1</td>\n",
       "      <td>1</td>\n",
       "      <td>1</td>\n",
       "      <td>1</td>\n",
       "      <td>1</td>\n",
       "    </tr>\n",
       "    <tr>\n",
       "      <th>2</th>\n",
       "      <td>1951</td>\n",
       "      <td>1</td>\n",
       "      <td>1</td>\n",
       "      <td>1</td>\n",
       "      <td>1</td>\n",
       "      <td>1</td>\n",
       "      <td>1</td>\n",
       "      <td>1</td>\n",
       "      <td>1</td>\n",
       "      <td>1</td>\n",
       "      <td>1</td>\n",
       "      <td>1</td>\n",
       "      <td>1</td>\n",
       "    </tr>\n",
       "    <tr>\n",
       "      <th>3</th>\n",
       "      <td>1952</td>\n",
       "      <td>1</td>\n",
       "      <td>1</td>\n",
       "      <td>1</td>\n",
       "      <td>1</td>\n",
       "      <td>1</td>\n",
       "      <td>1</td>\n",
       "      <td>1</td>\n",
       "      <td>1</td>\n",
       "      <td>1</td>\n",
       "      <td>1</td>\n",
       "      <td>1</td>\n",
       "      <td>1</td>\n",
       "    </tr>\n",
       "    <tr>\n",
       "      <th>4</th>\n",
       "      <td>1953</td>\n",
       "      <td>2</td>\n",
       "      <td>1</td>\n",
       "      <td>2</td>\n",
       "      <td>1</td>\n",
       "      <td>1</td>\n",
       "      <td>2</td>\n",
       "      <td>1</td>\n",
       "      <td>2</td>\n",
       "      <td>2</td>\n",
       "      <td>2</td>\n",
       "      <td>2</td>\n",
       "      <td>2</td>\n",
       "    </tr>\n",
       "    <tr>\n",
       "      <th>...</th>\n",
       "      <td>...</td>\n",
       "      <td>...</td>\n",
       "      <td>...</td>\n",
       "      <td>...</td>\n",
       "      <td>...</td>\n",
       "      <td>...</td>\n",
       "      <td>...</td>\n",
       "      <td>...</td>\n",
       "      <td>...</td>\n",
       "      <td>...</td>\n",
       "      <td>...</td>\n",
       "      <td>...</td>\n",
       "      <td>...</td>\n",
       "    </tr>\n",
       "    <tr>\n",
       "      <th>59</th>\n",
       "      <td>2018</td>\n",
       "      <td>117</td>\n",
       "      <td>1</td>\n",
       "      <td>116</td>\n",
       "      <td>6</td>\n",
       "      <td>55</td>\n",
       "      <td>82</td>\n",
       "      <td>19</td>\n",
       "      <td>6</td>\n",
       "      <td>41</td>\n",
       "      <td>94</td>\n",
       "      <td>92</td>\n",
       "      <td>34</td>\n",
       "    </tr>\n",
       "    <tr>\n",
       "      <th>60</th>\n",
       "      <td>2019</td>\n",
       "      <td>104</td>\n",
       "      <td>1</td>\n",
       "      <td>101</td>\n",
       "      <td>6</td>\n",
       "      <td>46</td>\n",
       "      <td>60</td>\n",
       "      <td>18</td>\n",
       "      <td>5</td>\n",
       "      <td>40</td>\n",
       "      <td>85</td>\n",
       "      <td>75</td>\n",
       "      <td>36</td>\n",
       "    </tr>\n",
       "    <tr>\n",
       "      <th>61</th>\n",
       "      <td>2020</td>\n",
       "      <td>124</td>\n",
       "      <td>1</td>\n",
       "      <td>120</td>\n",
       "      <td>6</td>\n",
       "      <td>55</td>\n",
       "      <td>57</td>\n",
       "      <td>21</td>\n",
       "      <td>4</td>\n",
       "      <td>36</td>\n",
       "      <td>77</td>\n",
       "      <td>92</td>\n",
       "      <td>33</td>\n",
       "    </tr>\n",
       "    <tr>\n",
       "      <th>62</th>\n",
       "      <td>2021</td>\n",
       "      <td>141</td>\n",
       "      <td>1</td>\n",
       "      <td>130</td>\n",
       "      <td>5</td>\n",
       "      <td>52</td>\n",
       "      <td>63</td>\n",
       "      <td>21</td>\n",
       "      <td>2</td>\n",
       "      <td>46</td>\n",
       "      <td>88</td>\n",
       "      <td>98</td>\n",
       "      <td>36</td>\n",
       "    </tr>\n",
       "    <tr>\n",
       "      <th>63</th>\n",
       "      <td>2022</td>\n",
       "      <td>39</td>\n",
       "      <td>1</td>\n",
       "      <td>39</td>\n",
       "      <td>5</td>\n",
       "      <td>23</td>\n",
       "      <td>28</td>\n",
       "      <td>13</td>\n",
       "      <td>3</td>\n",
       "      <td>19</td>\n",
       "      <td>29</td>\n",
       "      <td>38</td>\n",
       "      <td>11</td>\n",
       "    </tr>\n",
       "  </tbody>\n",
       "</table>\n",
       "<p>64 rows × 13 columns</p>\n",
       "</div>"
      ],
      "text/plain": [
       "    release_year  title  type  description  age_certification  runtime  \\\n",
       "0           1934      1     1            1                  1        1   \n",
       "1           1950      1     1            1                  1        1   \n",
       "2           1951      1     1            1                  1        1   \n",
       "3           1952      1     1            1                  1        1   \n",
       "4           1953      2     1            2                  1        1   \n",
       "..           ...    ...   ...          ...                ...      ...   \n",
       "59          2018    117     1          116                  6       55   \n",
       "60          2019    104     1          101                  6       46   \n",
       "61          2020    124     1          120                  6       55   \n",
       "62          2021    141     1          130                  5       52   \n",
       "63          2022     39     1           39                  5       23   \n",
       "\n",
       "    genres  production_countries  seasons  imdb_score  imdb_votes  \\\n",
       "0        1                     1        1           1           1   \n",
       "1        1                     1        1           1           1   \n",
       "2        1                     1        1           1           1   \n",
       "3        1                     1        1           1           1   \n",
       "4        2                     1        2           2           2   \n",
       "..     ...                   ...      ...         ...         ...   \n",
       "59      82                    19        6          41          94   \n",
       "60      60                    18        5          40          85   \n",
       "61      57                    21        4          36          77   \n",
       "62      63                    21        2          46          88   \n",
       "63      28                    13        3          19          29   \n",
       "\n",
       "    tmdb_popularity  tmdb_score  \n",
       "0                 1           1  \n",
       "1                 1           1  \n",
       "2                 1           1  \n",
       "3                 1           1  \n",
       "4                 2           2  \n",
       "..              ...         ...  \n",
       "59               92          34  \n",
       "60               75          36  \n",
       "61               92          33  \n",
       "62               98          36  \n",
       "63               38          11  \n",
       "\n",
       "[64 rows x 13 columns]"
      ]
     },
     "execution_count": 32,
     "metadata": {},
     "output_type": "execute_result"
    }
   ],
   "source": [
    "dfgrp5_1 = df[df['type'] == 'SHOW'].groupby(['release_year'])\n",
    "dfgrp5_1 = dfgrp5_1.nunique().reset_index()\n",
    "dfgrp5_1"
   ]
  },
  {
   "cell_type": "code",
   "execution_count": 33,
   "id": "424ed052",
   "metadata": {},
   "outputs": [
    {
     "data": {
      "image/png": "[encoded data removed]",
      "text/plain": [
       "<Figure size 432x288 with 1 Axes>"
      ]
     },
     "metadata": {
      "needs_background": "light"
     },
     "output_type": "display_data"
    }
   ],
   "source": [
    "plt.plot(dfgrp5_1['release_year'] , dfgrp5_1['title'])\n",
    "plt.show()"
   ]
  },
  {
   "cell_type": "code",
   "execution_count": 34,
   "id": "62d83bfd",
   "metadata": {},
   "outputs": [
    {
     "data": {
      "text/html": [
       "<div>\n",
       "<style scoped>\n",
       "    .dataframe tbody tr th:only-of-type {\n",
       "        vertical-align: middle;\n",
       "    }\n",
       "\n",
       "    .dataframe tbody tr th {\n",
       "        vertical-align: top;\n",
       "    }\n",
       "\n",
       "    .dataframe thead th {\n",
       "        text-align: right;\n",
       "    }\n",
       "</style>\n",
       "<table border=\"1\" class=\"dataframe\">\n",
       "  <thead>\n",
       "    <tr style=\"text-align: right;\">\n",
       "      <th></th>\n",
       "      <th>release_year</th>\n",
       "      <th>title</th>\n",
       "      <th>type</th>\n",
       "      <th>description</th>\n",
       "      <th>age_certification</th>\n",
       "      <th>runtime</th>\n",
       "      <th>genres</th>\n",
       "      <th>production_countries</th>\n",
       "      <th>seasons</th>\n",
       "      <th>imdb_score</th>\n",
       "      <th>imdb_votes</th>\n",
       "      <th>tmdb_popularity</th>\n",
       "      <th>tmdb_score</th>\n",
       "    </tr>\n",
       "  </thead>\n",
       "  <tbody>\n",
       "    <tr>\n",
       "      <th>0</th>\n",
       "      <td>1912</td>\n",
       "      <td>1</td>\n",
       "      <td>1</td>\n",
       "      <td>1</td>\n",
       "      <td>1</td>\n",
       "      <td>1</td>\n",
       "      <td>1</td>\n",
       "      <td>1</td>\n",
       "      <td>1</td>\n",
       "      <td>1</td>\n",
       "      <td>1</td>\n",
       "      <td>1</td>\n",
       "      <td>1</td>\n",
       "    </tr>\n",
       "    <tr>\n",
       "      <th>1</th>\n",
       "      <td>1914</td>\n",
       "      <td>2</td>\n",
       "      <td>1</td>\n",
       "      <td>2</td>\n",
       "      <td>1</td>\n",
       "      <td>2</td>\n",
       "      <td>2</td>\n",
       "      <td>1</td>\n",
       "      <td>1</td>\n",
       "      <td>2</td>\n",
       "      <td>2</td>\n",
       "      <td>2</td>\n",
       "      <td>2</td>\n",
       "    </tr>\n",
       "    <tr>\n",
       "      <th>2</th>\n",
       "      <td>1915</td>\n",
       "      <td>5</td>\n",
       "      <td>1</td>\n",
       "      <td>5</td>\n",
       "      <td>1</td>\n",
       "      <td>3</td>\n",
       "      <td>4</td>\n",
       "      <td>1</td>\n",
       "      <td>1</td>\n",
       "      <td>4</td>\n",
       "      <td>5</td>\n",
       "      <td>5</td>\n",
       "      <td>4</td>\n",
       "    </tr>\n",
       "    <tr>\n",
       "      <th>3</th>\n",
       "      <td>1916</td>\n",
       "      <td>2</td>\n",
       "      <td>1</td>\n",
       "      <td>2</td>\n",
       "      <td>1</td>\n",
       "      <td>2</td>\n",
       "      <td>2</td>\n",
       "      <td>1</td>\n",
       "      <td>1</td>\n",
       "      <td>2</td>\n",
       "      <td>2</td>\n",
       "      <td>2</td>\n",
       "      <td>2</td>\n",
       "    </tr>\n",
       "    <tr>\n",
       "      <th>4</th>\n",
       "      <td>1917</td>\n",
       "      <td>1</td>\n",
       "      <td>1</td>\n",
       "      <td>1</td>\n",
       "      <td>1</td>\n",
       "      <td>1</td>\n",
       "      <td>1</td>\n",
       "      <td>1</td>\n",
       "      <td>1</td>\n",
       "      <td>1</td>\n",
       "      <td>1</td>\n",
       "      <td>1</td>\n",
       "      <td>1</td>\n",
       "    </tr>\n",
       "    <tr>\n",
       "      <th>...</th>\n",
       "      <td>...</td>\n",
       "      <td>...</td>\n",
       "      <td>...</td>\n",
       "      <td>...</td>\n",
       "      <td>...</td>\n",
       "      <td>...</td>\n",
       "      <td>...</td>\n",
       "      <td>...</td>\n",
       "      <td>...</td>\n",
       "      <td>...</td>\n",
       "      <td>...</td>\n",
       "      <td>...</td>\n",
       "      <td>...</td>\n",
       "    </tr>\n",
       "    <tr>\n",
       "      <th>105</th>\n",
       "      <td>2018</td>\n",
       "      <td>568</td>\n",
       "      <td>1</td>\n",
       "      <td>559</td>\n",
       "      <td>6</td>\n",
       "      <td>119</td>\n",
       "      <td>217</td>\n",
       "      <td>83</td>\n",
       "      <td>1</td>\n",
       "      <td>66</td>\n",
       "      <td>428</td>\n",
       "      <td>439</td>\n",
       "      <td>57</td>\n",
       "    </tr>\n",
       "    <tr>\n",
       "      <th>106</th>\n",
       "      <td>2019</td>\n",
       "      <td>703</td>\n",
       "      <td>1</td>\n",
       "      <td>695</td>\n",
       "      <td>5</td>\n",
       "      <td>134</td>\n",
       "      <td>252</td>\n",
       "      <td>102</td>\n",
       "      <td>1</td>\n",
       "      <td>68</td>\n",
       "      <td>473</td>\n",
       "      <td>545</td>\n",
       "      <td>66</td>\n",
       "    </tr>\n",
       "    <tr>\n",
       "      <th>107</th>\n",
       "      <td>2020</td>\n",
       "      <td>574</td>\n",
       "      <td>1</td>\n",
       "      <td>554</td>\n",
       "      <td>6</td>\n",
       "      <td>122</td>\n",
       "      <td>178</td>\n",
       "      <td>62</td>\n",
       "      <td>1</td>\n",
       "      <td>69</td>\n",
       "      <td>344</td>\n",
       "      <td>428</td>\n",
       "      <td>62</td>\n",
       "    </tr>\n",
       "    <tr>\n",
       "      <th>108</th>\n",
       "      <td>2021</td>\n",
       "      <td>713</td>\n",
       "      <td>1</td>\n",
       "      <td>691</td>\n",
       "      <td>6</td>\n",
       "      <td>131</td>\n",
       "      <td>204</td>\n",
       "      <td>52</td>\n",
       "      <td>1</td>\n",
       "      <td>76</td>\n",
       "      <td>409</td>\n",
       "      <td>496</td>\n",
       "      <td>65</td>\n",
       "    </tr>\n",
       "    <tr>\n",
       "      <th>109</th>\n",
       "      <td>2022</td>\n",
       "      <td>50</td>\n",
       "      <td>1</td>\n",
       "      <td>50</td>\n",
       "      <td>3</td>\n",
       "      <td>43</td>\n",
       "      <td>32</td>\n",
       "      <td>12</td>\n",
       "      <td>1</td>\n",
       "      <td>29</td>\n",
       "      <td>41</td>\n",
       "      <td>48</td>\n",
       "      <td>26</td>\n",
       "    </tr>\n",
       "  </tbody>\n",
       "</table>\n",
       "<p>110 rows × 13 columns</p>\n",
       "</div>"
      ],
      "text/plain": [
       "     release_year  title  type  description  age_certification  runtime  \\\n",
       "0            1912      1     1            1                  1        1   \n",
       "1            1914      2     1            2                  1        2   \n",
       "2            1915      5     1            5                  1        3   \n",
       "3            1916      2     1            2                  1        2   \n",
       "4            1917      1     1            1                  1        1   \n",
       "..            ...    ...   ...          ...                ...      ...   \n",
       "105          2018    568     1          559                  6      119   \n",
       "106          2019    703     1          695                  5      134   \n",
       "107          2020    574     1          554                  6      122   \n",
       "108          2021    713     1          691                  6      131   \n",
       "109          2022     50     1           50                  3       43   \n",
       "\n",
       "     genres  production_countries  seasons  imdb_score  imdb_votes  \\\n",
       "0         1                     1        1           1           1   \n",
       "1         2                     1        1           2           2   \n",
       "2         4                     1        1           4           5   \n",
       "3         2                     1        1           2           2   \n",
       "4         1                     1        1           1           1   \n",
       "..      ...                   ...      ...         ...         ...   \n",
       "105     217                    83        1          66         428   \n",
       "106     252                   102        1          68         473   \n",
       "107     178                    62        1          69         344   \n",
       "108     204                    52        1          76         409   \n",
       "109      32                    12        1          29          41   \n",
       "\n",
       "     tmdb_popularity  tmdb_score  \n",
       "0                  1           1  \n",
       "1                  2           2  \n",
       "2                  5           4  \n",
       "3                  2           2  \n",
       "4                  1           1  \n",
       "..               ...         ...  \n",
       "105              439          57  \n",
       "106              545          66  \n",
       "107              428          62  \n",
       "108              496          65  \n",
       "109               48          26  \n",
       "\n",
       "[110 rows x 13 columns]"
      ]
     },
     "execution_count": 34,
     "metadata": {},
     "output_type": "execute_result"
    }
   ],
   "source": [
    "dfgrp5_2 = df[df['type'] == 'MOVIE'].groupby(['release_year'])\n",
    "dfgrp5_2 = dfgrp5_2.nunique().reset_index()\n",
    "dfgrp5_2\n"
   ]
  },
  {
   "cell_type": "code",
   "execution_count": 35,
   "id": "471d7389",
   "metadata": {},
   "outputs": [
    {
     "data": {
      "image/png": "[encoded data removed]",
      "text/plain": [
       "<Figure size 432x288 with 1 Axes>"
      ]
     },
     "metadata": {
      "needs_background": "light"
     },
     "output_type": "display_data"
    }
   ],
   "source": [
    "plt.plot(dfgrp5_2['release_year'] , dfgrp5_2['title'])\n",
    "plt.show()"
   ]
  },
  {
   "cell_type": "code",
   "execution_count": null,
   "id": "38cb428e",
   "metadata": {},
   "outputs": [],
   "source": []
  }
 ],
 "metadata": {
  "kernelspec": {
   "display_name": "Python 3",
   "language": "python",
   "name": "python3"
  },
  "language_info": {
   "codemirror_mode": {
    "name": "ipython",
    "version": 3
   },
   "file_extension": ".py",
   "mimetype": "text/x-python",
   "name": "python",
   "nbconvert_exporter": "python",
   "pygments_lexer": "ipython3",
   "version": "3.8.10"
  }
 },
 "nbformat": 4,
 "nbformat_minor": 5
}
