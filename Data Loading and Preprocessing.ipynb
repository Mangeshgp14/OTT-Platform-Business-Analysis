{
 "cells": [
  {
   "cell_type": "markdown",
   "id": "b1b36c32",
   "metadata": {},
   "source": [
    "\n",
    "\n",
    "# Data Loading"
   ]
  },
  {
   "cell_type": "code",
   "execution_count": 1,
   "id": "1a646bfa",
   "metadata": {},
   "outputs": [],
   "source": [
    "import pandas as pd"
   ]
  },
  {
   "cell_type": "code",
   "execution_count": 2,
   "id": "cba3b7ae",
   "metadata": {},
   "outputs": [],
   "source": [
    "df = pd.read_csv(r'C:\\Users\\Mangesh\\Desktop\\1 month\\Projects\\OTT Platform Business Analysis\\Dataset\\dataset.csv')"
   ]
  },
  {
   "cell_type": "code",
   "execution_count": 3,
   "id": "804084f9",
   "metadata": {},
   "outputs": [],
   "source": [
    "pd.set_option('display.max_columns', None)"
   ]
  },
  {
   "cell_type": "code",
   "execution_count": 4,
   "id": "3e647ade",
   "metadata": {},
   "outputs": [
    {
     "data": {
      "text/html": [
       "<div>\n",
       "<style scoped>\n",
       "    .dataframe tbody tr th:only-of-type {\n",
       "        vertical-align: middle;\n",
       "    }\n",
       "\n",
       "    .dataframe tbody tr th {\n",
       "        vertical-align: top;\n",
       "    }\n",
       "\n",
       "    .dataframe thead th {\n",
       "        text-align: right;\n",
       "    }\n",
       "</style>\n",
       "<table border=\"1\" class=\"dataframe\">\n",
       "  <thead>\n",
       "    <tr style=\"text-align: right;\">\n",
       "      <th></th>\n",
       "      <th>id</th>\n",
       "      <th>title</th>\n",
       "      <th>type</th>\n",
       "      <th>description</th>\n",
       "      <th>release_year</th>\n",
       "      <th>age_certification</th>\n",
       "      <th>runtime</th>\n",
       "      <th>genres</th>\n",
       "      <th>production_countries</th>\n",
       "      <th>seasons</th>\n",
       "      <th>imdb_id</th>\n",
       "      <th>imdb_score</th>\n",
       "      <th>imdb_votes</th>\n",
       "      <th>tmdb_popularity</th>\n",
       "      <th>tmdb_score</th>\n",
       "    </tr>\n",
       "  </thead>\n",
       "  <tbody>\n",
       "    <tr>\n",
       "      <th>0</th>\n",
       "      <td>ts20945</td>\n",
       "      <td>The Three Stooges</td>\n",
       "      <td>SHOW</td>\n",
       "      <td>The Three Stooges were an American vaudeville ...</td>\n",
       "      <td>1934</td>\n",
       "      <td>TV-PG</td>\n",
       "      <td>19</td>\n",
       "      <td>['comedy', 'family', 'animation', 'action', 'f...</td>\n",
       "      <td>['US']</td>\n",
       "      <td>26.0</td>\n",
       "      <td>tt0850645</td>\n",
       "      <td>8.6</td>\n",
       "      <td>1092.0</td>\n",
       "      <td>15.424</td>\n",
       "      <td>7.6</td>\n",
       "    </tr>\n",
       "    <tr>\n",
       "      <th>1</th>\n",
       "      <td>tm19248</td>\n",
       "      <td>The General</td>\n",
       "      <td>MOVIE</td>\n",
       "      <td>During America’s Civil War, Union spies steal ...</td>\n",
       "      <td>1926</td>\n",
       "      <td>NaN</td>\n",
       "      <td>78</td>\n",
       "      <td>['action', 'drama', 'war', 'western', 'comedy'...</td>\n",
       "      <td>['US']</td>\n",
       "      <td>NaN</td>\n",
       "      <td>tt0017925</td>\n",
       "      <td>8.2</td>\n",
       "      <td>89766.0</td>\n",
       "      <td>8.647</td>\n",
       "      <td>8.0</td>\n",
       "    </tr>\n",
       "    <tr>\n",
       "      <th>2</th>\n",
       "      <td>tm82253</td>\n",
       "      <td>The Best Years of Our Lives</td>\n",
       "      <td>MOVIE</td>\n",
       "      <td>It's the hope that sustains the spirit of ever...</td>\n",
       "      <td>1946</td>\n",
       "      <td>NaN</td>\n",
       "      <td>171</td>\n",
       "      <td>['romance', 'war', 'drama']</td>\n",
       "      <td>['US']</td>\n",
       "      <td>NaN</td>\n",
       "      <td>tt0036868</td>\n",
       "      <td>8.1</td>\n",
       "      <td>63026.0</td>\n",
       "      <td>8.435</td>\n",
       "      <td>7.8</td>\n",
       "    </tr>\n",
       "    <tr>\n",
       "      <th>3</th>\n",
       "      <td>tm83884</td>\n",
       "      <td>His Girl Friday</td>\n",
       "      <td>MOVIE</td>\n",
       "      <td>Hildy, the journalist former wife of newspaper...</td>\n",
       "      <td>1940</td>\n",
       "      <td>NaN</td>\n",
       "      <td>92</td>\n",
       "      <td>['comedy', 'drama', 'romance']</td>\n",
       "      <td>['US']</td>\n",
       "      <td>NaN</td>\n",
       "      <td>tt0032599</td>\n",
       "      <td>7.8</td>\n",
       "      <td>57835.0</td>\n",
       "      <td>11.270</td>\n",
       "      <td>7.4</td>\n",
       "    </tr>\n",
       "    <tr>\n",
       "      <th>4</th>\n",
       "      <td>tm56584</td>\n",
       "      <td>In a Lonely Place</td>\n",
       "      <td>MOVIE</td>\n",
       "      <td>An aspiring actress begins to suspect that her...</td>\n",
       "      <td>1950</td>\n",
       "      <td>NaN</td>\n",
       "      <td>94</td>\n",
       "      <td>['thriller', 'drama', 'romance']</td>\n",
       "      <td>['US']</td>\n",
       "      <td>NaN</td>\n",
       "      <td>tt0042593</td>\n",
       "      <td>7.9</td>\n",
       "      <td>30924.0</td>\n",
       "      <td>8.273</td>\n",
       "      <td>7.6</td>\n",
       "    </tr>\n",
       "  </tbody>\n",
       "</table>\n",
       "</div>"
      ],
      "text/plain": [
       "        id                        title   type  \\\n",
       "0  ts20945            The Three Stooges   SHOW   \n",
       "1  tm19248                  The General  MOVIE   \n",
       "2  tm82253  The Best Years of Our Lives  MOVIE   \n",
       "3  tm83884              His Girl Friday  MOVIE   \n",
       "4  tm56584            In a Lonely Place  MOVIE   \n",
       "\n",
       "                                         description  release_year  \\\n",
       "0  The Three Stooges were an American vaudeville ...          1934   \n",
       "1  During America’s Civil War, Union spies steal ...          1926   \n",
       "2  It's the hope that sustains the spirit of ever...          1946   \n",
       "3  Hildy, the journalist former wife of newspaper...          1940   \n",
       "4  An aspiring actress begins to suspect that her...          1950   \n",
       "\n",
       "  age_certification  runtime  \\\n",
       "0             TV-PG       19   \n",
       "1               NaN       78   \n",
       "2               NaN      171   \n",
       "3               NaN       92   \n",
       "4               NaN       94   \n",
       "\n",
       "                                              genres production_countries  \\\n",
       "0  ['comedy', 'family', 'animation', 'action', 'f...               ['US']   \n",
       "1  ['action', 'drama', 'war', 'western', 'comedy'...               ['US']   \n",
       "2                        ['romance', 'war', 'drama']               ['US']   \n",
       "3                     ['comedy', 'drama', 'romance']               ['US']   \n",
       "4                   ['thriller', 'drama', 'romance']               ['US']   \n",
       "\n",
       "   seasons    imdb_id  imdb_score  imdb_votes  tmdb_popularity  tmdb_score  \n",
       "0     26.0  tt0850645         8.6      1092.0           15.424         7.6  \n",
       "1      NaN  tt0017925         8.2     89766.0            8.647         8.0  \n",
       "2      NaN  tt0036868         8.1     63026.0            8.435         7.8  \n",
       "3      NaN  tt0032599         7.8     57835.0           11.270         7.4  \n",
       "4      NaN  tt0042593         7.9     30924.0            8.273         7.6  "
      ]
     },
     "execution_count": 4,
     "metadata": {},
     "output_type": "execute_result"
    }
   ],
   "source": [
    "df.head()"
   ]
  },
  {
   "cell_type": "code",
   "execution_count": 5,
   "id": "b03f2b3b",
   "metadata": {},
   "outputs": [
    {
     "data": {
      "text/html": [
       "<div>\n",
       "<style scoped>\n",
       "    .dataframe tbody tr th:only-of-type {\n",
       "        vertical-align: middle;\n",
       "    }\n",
       "\n",
       "    .dataframe tbody tr th {\n",
       "        vertical-align: top;\n",
       "    }\n",
       "\n",
       "    .dataframe thead th {\n",
       "        text-align: right;\n",
       "    }\n",
       "</style>\n",
       "<table border=\"1\" class=\"dataframe\">\n",
       "  <thead>\n",
       "    <tr style=\"text-align: right;\">\n",
       "      <th></th>\n",
       "      <th>id</th>\n",
       "      <th>title</th>\n",
       "      <th>type</th>\n",
       "      <th>description</th>\n",
       "      <th>release_year</th>\n",
       "      <th>age_certification</th>\n",
       "      <th>runtime</th>\n",
       "      <th>genres</th>\n",
       "      <th>production_countries</th>\n",
       "      <th>seasons</th>\n",
       "      <th>imdb_id</th>\n",
       "      <th>imdb_score</th>\n",
       "      <th>imdb_votes</th>\n",
       "      <th>tmdb_popularity</th>\n",
       "      <th>tmdb_score</th>\n",
       "    </tr>\n",
       "  </thead>\n",
       "  <tbody>\n",
       "    <tr>\n",
       "      <th>3108</th>\n",
       "      <td>tm146273</td>\n",
       "      <td>The Greatest</td>\n",
       "      <td>MOVIE</td>\n",
       "      <td>Teenagers Rose and Bennett were in love, and t...</td>\n",
       "      <td>2009</td>\n",
       "      <td>R</td>\n",
       "      <td>99</td>\n",
       "      <td>['drama', 'romance']</td>\n",
       "      <td>['US']</td>\n",
       "      <td>NaN</td>\n",
       "      <td>tt1226232</td>\n",
       "      <td>6.6</td>\n",
       "      <td>9031.0</td>\n",
       "      <td>7.733</td>\n",
       "      <td>6.2</td>\n",
       "    </tr>\n",
       "    <tr>\n",
       "      <th>9430</th>\n",
       "      <td>tm1031388</td>\n",
       "      <td>Joji</td>\n",
       "      <td>MOVIE</td>\n",
       "      <td>Joji, an engineering dropout and the youngest ...</td>\n",
       "      <td>2021</td>\n",
       "      <td>NaN</td>\n",
       "      <td>113</td>\n",
       "      <td>['crime', 'drama']</td>\n",
       "      <td>['IN']</td>\n",
       "      <td>NaN</td>\n",
       "      <td>tt13206926</td>\n",
       "      <td>7.8</td>\n",
       "      <td>9362.0</td>\n",
       "      <td>4.778</td>\n",
       "      <td>7.6</td>\n",
       "    </tr>\n",
       "    <tr>\n",
       "      <th>1139</th>\n",
       "      <td>tm123716</td>\n",
       "      <td>The Trip</td>\n",
       "      <td>MOVIE</td>\n",
       "      <td>After his wife leaves him, a disillusioned dir...</td>\n",
       "      <td>1967</td>\n",
       "      <td>NaN</td>\n",
       "      <td>85</td>\n",
       "      <td>['drama']</td>\n",
       "      <td>['US']</td>\n",
       "      <td>NaN</td>\n",
       "      <td>tt0062395</td>\n",
       "      <td>6.0</td>\n",
       "      <td>4925.0</td>\n",
       "      <td>6.701</td>\n",
       "      <td>5.8</td>\n",
       "    </tr>\n",
       "    <tr>\n",
       "      <th>5359</th>\n",
       "      <td>ts35274</td>\n",
       "      <td>The Making of The Mob</td>\n",
       "      <td>SHOW</td>\n",
       "      <td>A docudrama series chronicling some of America...</td>\n",
       "      <td>2015</td>\n",
       "      <td>TV-14</td>\n",
       "      <td>43</td>\n",
       "      <td>['drama', 'documentation', 'crime', 'history']</td>\n",
       "      <td>['US']</td>\n",
       "      <td>2.0</td>\n",
       "      <td>tt4484722</td>\n",
       "      <td>7.9</td>\n",
       "      <td>2394.0</td>\n",
       "      <td>9.099</td>\n",
       "      <td>6.6</td>\n",
       "    </tr>\n",
       "    <tr>\n",
       "      <th>1908</th>\n",
       "      <td>tm159880</td>\n",
       "      <td>Cadillac Man</td>\n",
       "      <td>MOVIE</td>\n",
       "      <td>Joe's a car salesman with a problem—he has two...</td>\n",
       "      <td>1990</td>\n",
       "      <td>R</td>\n",
       "      <td>97</td>\n",
       "      <td>['comedy', 'drama', 'crime']</td>\n",
       "      <td>['US']</td>\n",
       "      <td>NaN</td>\n",
       "      <td>tt0099204</td>\n",
       "      <td>5.7</td>\n",
       "      <td>14274.0</td>\n",
       "      <td>10.367</td>\n",
       "      <td>5.6</td>\n",
       "    </tr>\n",
       "  </tbody>\n",
       "</table>\n",
       "</div>"
      ],
      "text/plain": [
       "             id                  title   type  \\\n",
       "3108   tm146273           The Greatest  MOVIE   \n",
       "9430  tm1031388                   Joji  MOVIE   \n",
       "1139   tm123716               The Trip  MOVIE   \n",
       "5359    ts35274  The Making of The Mob   SHOW   \n",
       "1908   tm159880           Cadillac Man  MOVIE   \n",
       "\n",
       "                                            description  release_year  \\\n",
       "3108  Teenagers Rose and Bennett were in love, and t...          2009   \n",
       "9430  Joji, an engineering dropout and the youngest ...          2021   \n",
       "1139  After his wife leaves him, a disillusioned dir...          1967   \n",
       "5359  A docudrama series chronicling some of America...          2015   \n",
       "1908  Joe's a car salesman with a problem—he has two...          1990   \n",
       "\n",
       "     age_certification  runtime  \\\n",
       "3108                 R       99   \n",
       "9430               NaN      113   \n",
       "1139               NaN       85   \n",
       "5359             TV-14       43   \n",
       "1908                 R       97   \n",
       "\n",
       "                                              genres production_countries  \\\n",
       "3108                            ['drama', 'romance']               ['US']   \n",
       "9430                              ['crime', 'drama']               ['IN']   \n",
       "1139                                       ['drama']               ['US']   \n",
       "5359  ['drama', 'documentation', 'crime', 'history']               ['US']   \n",
       "1908                    ['comedy', 'drama', 'crime']               ['US']   \n",
       "\n",
       "      seasons     imdb_id  imdb_score  imdb_votes  tmdb_popularity  tmdb_score  \n",
       "3108      NaN   tt1226232         6.6      9031.0            7.733         6.2  \n",
       "9430      NaN  tt13206926         7.8      9362.0            4.778         7.6  \n",
       "1139      NaN   tt0062395         6.0      4925.0            6.701         5.8  \n",
       "5359      2.0   tt4484722         7.9      2394.0            9.099         6.6  \n",
       "1908      NaN   tt0099204         5.7     14274.0           10.367         5.6  "
      ]
     },
     "execution_count": 5,
     "metadata": {},
     "output_type": "execute_result"
    }
   ],
   "source": [
    "df.sample(5)"
   ]
  },
  {
   "cell_type": "code",
   "execution_count": 6,
   "id": "02d452b7",
   "metadata": {},
   "outputs": [
    {
     "data": {
      "text/plain": [
       "(9871, 15)"
      ]
     },
     "execution_count": 6,
     "metadata": {},
     "output_type": "execute_result"
    }
   ],
   "source": [
    "df.shape"
   ]
  },
  {
   "cell_type": "code",
   "execution_count": 7,
   "id": "256c75ee",
   "metadata": {},
   "outputs": [
    {
     "name": "stdout",
     "output_type": "stream",
     "text": [
      "<class 'pandas.core.frame.DataFrame'>\n",
      "RangeIndex: 9871 entries, 0 to 9870\n",
      "Data columns (total 15 columns):\n",
      " #   Column                Non-Null Count  Dtype  \n",
      "---  ------                --------------  -----  \n",
      " 0   id                    9871 non-null   object \n",
      " 1   title                 9871 non-null   object \n",
      " 2   type                  9871 non-null   object \n",
      " 3   description           9752 non-null   object \n",
      " 4   release_year          9871 non-null   int64  \n",
      " 5   age_certification     3384 non-null   object \n",
      " 6   runtime               9871 non-null   int64  \n",
      " 7   genres                9871 non-null   object \n",
      " 8   production_countries  9871 non-null   object \n",
      " 9   seasons               1357 non-null   float64\n",
      " 10  imdb_id               9204 non-null   object \n",
      " 11  imdb_score            8850 non-null   float64\n",
      " 12  imdb_votes            8840 non-null   float64\n",
      " 13  tmdb_popularity       9324 non-null   float64\n",
      " 14  tmdb_score            7789 non-null   float64\n",
      "dtypes: float64(5), int64(2), object(8)\n",
      "memory usage: 1.1+ MB\n"
     ]
    }
   ],
   "source": [
    "df.info()"
   ]
  },
  {
   "cell_type": "code",
   "execution_count": 8,
   "id": "d33631ca",
   "metadata": {},
   "outputs": [
    {
     "data": {
      "text/html": [
       "<div>\n",
       "<style scoped>\n",
       "    .dataframe tbody tr th:only-of-type {\n",
       "        vertical-align: middle;\n",
       "    }\n",
       "\n",
       "    .dataframe tbody tr th {\n",
       "        vertical-align: top;\n",
       "    }\n",
       "\n",
       "    .dataframe thead th {\n",
       "        text-align: right;\n",
       "    }\n",
       "</style>\n",
       "<table border=\"1\" class=\"dataframe\">\n",
       "  <thead>\n",
       "    <tr style=\"text-align: right;\">\n",
       "      <th></th>\n",
       "      <th>release_year</th>\n",
       "      <th>runtime</th>\n",
       "      <th>seasons</th>\n",
       "      <th>imdb_score</th>\n",
       "      <th>imdb_votes</th>\n",
       "      <th>tmdb_popularity</th>\n",
       "      <th>tmdb_score</th>\n",
       "    </tr>\n",
       "  </thead>\n",
       "  <tbody>\n",
       "    <tr>\n",
       "      <th>count</th>\n",
       "      <td>9871.000000</td>\n",
       "      <td>9871.000000</td>\n",
       "      <td>1357.000000</td>\n",
       "      <td>8850.000000</td>\n",
       "      <td>8.840000e+03</td>\n",
       "      <td>9324.000000</td>\n",
       "      <td>7789.000000</td>\n",
       "    </tr>\n",
       "    <tr>\n",
       "      <th>mean</th>\n",
       "      <td>2001.327221</td>\n",
       "      <td>85.973052</td>\n",
       "      <td>2.791452</td>\n",
       "      <td>5.976395</td>\n",
       "      <td>8.533614e+03</td>\n",
       "      <td>6.910204</td>\n",
       "      <td>5.984247</td>\n",
       "    </tr>\n",
       "    <tr>\n",
       "      <th>std</th>\n",
       "      <td>25.810071</td>\n",
       "      <td>33.512466</td>\n",
       "      <td>4.148958</td>\n",
       "      <td>1.343842</td>\n",
       "      <td>4.592015e+04</td>\n",
       "      <td>30.004098</td>\n",
       "      <td>1.517986</td>\n",
       "    </tr>\n",
       "    <tr>\n",
       "      <th>min</th>\n",
       "      <td>1912.000000</td>\n",
       "      <td>1.000000</td>\n",
       "      <td>1.000000</td>\n",
       "      <td>1.100000</td>\n",
       "      <td>5.000000e+00</td>\n",
       "      <td>0.000011</td>\n",
       "      <td>0.800000</td>\n",
       "    </tr>\n",
       "    <tr>\n",
       "      <th>25%</th>\n",
       "      <td>1995.500000</td>\n",
       "      <td>65.000000</td>\n",
       "      <td>1.000000</td>\n",
       "      <td>5.100000</td>\n",
       "      <td>1.170000e+02</td>\n",
       "      <td>1.232000</td>\n",
       "      <td>5.100000</td>\n",
       "    </tr>\n",
       "    <tr>\n",
       "      <th>50%</th>\n",
       "      <td>2014.000000</td>\n",
       "      <td>89.000000</td>\n",
       "      <td>1.000000</td>\n",
       "      <td>6.100000</td>\n",
       "      <td>4.625000e+02</td>\n",
       "      <td>2.536000</td>\n",
       "      <td>6.000000</td>\n",
       "    </tr>\n",
       "    <tr>\n",
       "      <th>75%</th>\n",
       "      <td>2018.000000</td>\n",
       "      <td>102.000000</td>\n",
       "      <td>3.000000</td>\n",
       "      <td>6.900000</td>\n",
       "      <td>2.236250e+03</td>\n",
       "      <td>5.634000</td>\n",
       "      <td>6.900000</td>\n",
       "    </tr>\n",
       "    <tr>\n",
       "      <th>max</th>\n",
       "      <td>2022.000000</td>\n",
       "      <td>549.000000</td>\n",
       "      <td>51.000000</td>\n",
       "      <td>9.900000</td>\n",
       "      <td>1.133692e+06</td>\n",
       "      <td>1437.906000</td>\n",
       "      <td>10.000000</td>\n",
       "    </tr>\n",
       "  </tbody>\n",
       "</table>\n",
       "</div>"
      ],
      "text/plain": [
       "       release_year      runtime      seasons   imdb_score    imdb_votes  \\\n",
       "count   9871.000000  9871.000000  1357.000000  8850.000000  8.840000e+03   \n",
       "mean    2001.327221    85.973052     2.791452     5.976395  8.533614e+03   \n",
       "std       25.810071    33.512466     4.148958     1.343842  4.592015e+04   \n",
       "min     1912.000000     1.000000     1.000000     1.100000  5.000000e+00   \n",
       "25%     1995.500000    65.000000     1.000000     5.100000  1.170000e+02   \n",
       "50%     2014.000000    89.000000     1.000000     6.100000  4.625000e+02   \n",
       "75%     2018.000000   102.000000     3.000000     6.900000  2.236250e+03   \n",
       "max     2022.000000   549.000000    51.000000     9.900000  1.133692e+06   \n",
       "\n",
       "       tmdb_popularity   tmdb_score  \n",
       "count      9324.000000  7789.000000  \n",
       "mean          6.910204     5.984247  \n",
       "std          30.004098     1.517986  \n",
       "min           0.000011     0.800000  \n",
       "25%           1.232000     5.100000  \n",
       "50%           2.536000     6.000000  \n",
       "75%           5.634000     6.900000  \n",
       "max        1437.906000    10.000000  "
      ]
     },
     "execution_count": 8,
     "metadata": {},
     "output_type": "execute_result"
    }
   ],
   "source": [
    "df.describe()"
   ]
  },
  {
   "cell_type": "markdown",
   "id": "8ed89869",
   "metadata": {},
   "source": [
    "# Data Preprocessing and Cleaning\n"
   ]
  },
  {
   "cell_type": "markdown",
   "id": "d52c5409",
   "metadata": {},
   "source": [
    "1. Removing unnecessary data - Dataset Size Reduction\n"
   ]
  },
  {
   "cell_type": "code",
   "execution_count": 9,
   "id": "5cfeb9cd",
   "metadata": {},
   "outputs": [],
   "source": [
    "#After observation we can see that columns mentioning 'Ids' will not be significant in the analysis. \n",
    "#Hence they can be dropped.\n",
    "df.drop(['id', 'imdb_id'], axis = 1, inplace = True)"
   ]
  },
  {
   "cell_type": "code",
   "execution_count": 10,
   "id": "da3af60a",
   "metadata": {},
   "outputs": [
    {
     "data": {
      "text/html": [
       "<div>\n",
       "<style scoped>\n",
       "    .dataframe tbody tr th:only-of-type {\n",
       "        vertical-align: middle;\n",
       "    }\n",
       "\n",
       "    .dataframe tbody tr th {\n",
       "        vertical-align: top;\n",
       "    }\n",
       "\n",
       "    .dataframe thead th {\n",
       "        text-align: right;\n",
       "    }\n",
       "</style>\n",
       "<table border=\"1\" class=\"dataframe\">\n",
       "  <thead>\n",
       "    <tr style=\"text-align: right;\">\n",
       "      <th></th>\n",
       "      <th>title</th>\n",
       "      <th>type</th>\n",
       "      <th>description</th>\n",
       "      <th>release_year</th>\n",
       "      <th>age_certification</th>\n",
       "      <th>runtime</th>\n",
       "      <th>genres</th>\n",
       "      <th>production_countries</th>\n",
       "      <th>seasons</th>\n",
       "      <th>imdb_score</th>\n",
       "      <th>imdb_votes</th>\n",
       "      <th>tmdb_popularity</th>\n",
       "      <th>tmdb_score</th>\n",
       "    </tr>\n",
       "  </thead>\n",
       "  <tbody>\n",
       "    <tr>\n",
       "      <th>7354</th>\n",
       "      <td>Marital Problems</td>\n",
       "      <td>MOVIE</td>\n",
       "      <td>On the eve of his eviction, Ian's home becomes...</td>\n",
       "      <td>2017</td>\n",
       "      <td>NaN</td>\n",
       "      <td>98</td>\n",
       "      <td>['comedy', 'drama']</td>\n",
       "      <td>['IN']</td>\n",
       "      <td>NaN</td>\n",
       "      <td>6.9</td>\n",
       "      <td>21.0</td>\n",
       "      <td>NaN</td>\n",
       "      <td>NaN</td>\n",
       "    </tr>\n",
       "    <tr>\n",
       "      <th>2874</th>\n",
       "      <td>Legally Blonde 2: Red, White &amp; Blonde</td>\n",
       "      <td>MOVIE</td>\n",
       "      <td>Now a rising young lawyer, Elle Woods is about...</td>\n",
       "      <td>2003</td>\n",
       "      <td>PG-13</td>\n",
       "      <td>95</td>\n",
       "      <td>['comedy']</td>\n",
       "      <td>['US']</td>\n",
       "      <td>NaN</td>\n",
       "      <td>4.7</td>\n",
       "      <td>66316.0</td>\n",
       "      <td>19.668</td>\n",
       "      <td>5.6</td>\n",
       "    </tr>\n",
       "    <tr>\n",
       "      <th>896</th>\n",
       "      <td>The Last Alarm</td>\n",
       "      <td>MOVIE</td>\n",
       "      <td>A recently retired fire captain suffers from b...</td>\n",
       "      <td>1940</td>\n",
       "      <td>NaN</td>\n",
       "      <td>61</td>\n",
       "      <td>['drama', 'action', 'crime']</td>\n",
       "      <td>['US']</td>\n",
       "      <td>NaN</td>\n",
       "      <td>5.7</td>\n",
       "      <td>202.0</td>\n",
       "      <td>0.600</td>\n",
       "      <td>4.7</td>\n",
       "    </tr>\n",
       "    <tr>\n",
       "      <th>7588</th>\n",
       "      <td>Late Night</td>\n",
       "      <td>MOVIE</td>\n",
       "      <td>A legendary late-night talk show host's world ...</td>\n",
       "      <td>2019</td>\n",
       "      <td>R</td>\n",
       "      <td>102</td>\n",
       "      <td>['drama', 'comedy', 'music']</td>\n",
       "      <td>['US']</td>\n",
       "      <td>NaN</td>\n",
       "      <td>6.5</td>\n",
       "      <td>36219.0</td>\n",
       "      <td>9.564</td>\n",
       "      <td>6.5</td>\n",
       "    </tr>\n",
       "    <tr>\n",
       "      <th>8901</th>\n",
       "      <td>Cheo</td>\n",
       "      <td>MOVIE</td>\n",
       "      <td>Cheo and his girlfriend Blue just graduated fr...</td>\n",
       "      <td>2019</td>\n",
       "      <td>NaN</td>\n",
       "      <td>105</td>\n",
       "      <td>['drama']</td>\n",
       "      <td>[]</td>\n",
       "      <td>NaN</td>\n",
       "      <td>NaN</td>\n",
       "      <td>NaN</td>\n",
       "      <td>NaN</td>\n",
       "      <td>NaN</td>\n",
       "    </tr>\n",
       "  </tbody>\n",
       "</table>\n",
       "</div>"
      ],
      "text/plain": [
       "                                      title   type  \\\n",
       "7354                       Marital Problems  MOVIE   \n",
       "2874  Legally Blonde 2: Red, White & Blonde  MOVIE   \n",
       "896                          The Last Alarm  MOVIE   \n",
       "7588                             Late Night  MOVIE   \n",
       "8901                                   Cheo  MOVIE   \n",
       "\n",
       "                                            description  release_year  \\\n",
       "7354  On the eve of his eviction, Ian's home becomes...          2017   \n",
       "2874  Now a rising young lawyer, Elle Woods is about...          2003   \n",
       "896   A recently retired fire captain suffers from b...          1940   \n",
       "7588  A legendary late-night talk show host's world ...          2019   \n",
       "8901  Cheo and his girlfriend Blue just graduated fr...          2019   \n",
       "\n",
       "     age_certification  runtime                        genres  \\\n",
       "7354               NaN       98           ['comedy', 'drama']   \n",
       "2874             PG-13       95                    ['comedy']   \n",
       "896                NaN       61  ['drama', 'action', 'crime']   \n",
       "7588                 R      102  ['drama', 'comedy', 'music']   \n",
       "8901               NaN      105                     ['drama']   \n",
       "\n",
       "     production_countries  seasons  imdb_score  imdb_votes  tmdb_popularity  \\\n",
       "7354               ['IN']      NaN         6.9        21.0              NaN   \n",
       "2874               ['US']      NaN         4.7     66316.0           19.668   \n",
       "896                ['US']      NaN         5.7       202.0            0.600   \n",
       "7588               ['US']      NaN         6.5     36219.0            9.564   \n",
       "8901                   []      NaN         NaN         NaN              NaN   \n",
       "\n",
       "      tmdb_score  \n",
       "7354         NaN  \n",
       "2874         5.6  \n",
       "896          4.7  \n",
       "7588         6.5  \n",
       "8901         NaN  "
      ]
     },
     "execution_count": 10,
     "metadata": {},
     "output_type": "execute_result"
    }
   ],
   "source": [
    "df.sample(5)"
   ]
  },
  {
   "cell_type": "markdown",
   "id": "4fdb7580",
   "metadata": {},
   "source": [
    "2. Handling Null Values"
   ]
  },
  {
   "cell_type": "code",
   "execution_count": 11,
   "id": "ffe22945",
   "metadata": {},
   "outputs": [
    {
     "data": {
      "text/plain": [
       "title                      0\n",
       "type                       0\n",
       "description              119\n",
       "release_year               0\n",
       "age_certification       6487\n",
       "runtime                    0\n",
       "genres                     0\n",
       "production_countries       0\n",
       "seasons                 8514\n",
       "imdb_score              1021\n",
       "imdb_votes              1031\n",
       "tmdb_popularity          547\n",
       "tmdb_score              2082\n",
       "dtype: int64"
      ]
     },
     "execution_count": 11,
     "metadata": {},
     "output_type": "execute_result"
    }
   ],
   "source": [
    "df.isnull().sum()"
   ]
  },
  {
   "cell_type": "code",
   "execution_count": 12,
   "id": "e32df35c",
   "metadata": {},
   "outputs": [],
   "source": [
    "#For description column, the null values can be filled with an random value. Hence, it is better to replace them with 'NA'.\n",
    "df['description'].fillna('Not Available', inplace = True)"
   ]
  },
  {
   "cell_type": "code",
   "execution_count": 13,
   "id": "c01f56a8",
   "metadata": {},
   "outputs": [],
   "source": [
    "#For null values in 'age_certification' column, replacing them with 'TV-G' can be the best choice.\n",
    "df['age_certification'].fillna('TV-G', inplace = True)"
   ]
  },
  {
   "cell_type": "code",
   "execution_count": 14,
   "id": "e0c7fcea",
   "metadata": {},
   "outputs": [],
   "source": [
    "df['type'][df['seasons'].isnull()].unique()\n",
    "# We can observe that the null values in season column are only for MOVIES. Hence we can fill them with NOT Applicable.\n",
    "\n",
    "df['seasons'].fillna('Not Applicable' , inplace = True)"
   ]
  },
  {
   "cell_type": "code",
   "execution_count": 15,
   "id": "5f532b38",
   "metadata": {},
   "outputs": [],
   "source": [
    "#Numerical null values can be filled with median as it is a metric that is not affected by outliers\n",
    "df['imdb_score'].fillna(df['imdb_score'].median(), inplace = True)\n",
    "df['imdb_votes'].fillna(df['imdb_votes'].median(), inplace = True)\n",
    "df['tmdb_popularity'].fillna(df['tmdb_popularity'].median(), inplace = True)\n",
    "df['tmdb_score'].fillna(df['tmdb_score'].median(), inplace = True)"
   ]
  },
  {
   "cell_type": "code",
   "execution_count": 16,
   "id": "78c3ec39",
   "metadata": {},
   "outputs": [
    {
     "data": {
      "text/plain": [
       "title                   0\n",
       "type                    0\n",
       "description             0\n",
       "release_year            0\n",
       "age_certification       0\n",
       "runtime                 0\n",
       "genres                  0\n",
       "production_countries    0\n",
       "seasons                 0\n",
       "imdb_score              0\n",
       "imdb_votes              0\n",
       "tmdb_popularity         0\n",
       "tmdb_score              0\n",
       "dtype: int64"
      ]
     },
     "execution_count": 16,
     "metadata": {},
     "output_type": "execute_result"
    }
   ],
   "source": [
    "df.isnull().sum()"
   ]
  },
  {
   "cell_type": "code",
   "execution_count": 17,
   "id": "f60547fe",
   "metadata": {},
   "outputs": [
    {
     "name": "stderr",
     "output_type": "stream",
     "text": [
      "<ipython-input-17-908970d4494c>:6: SettingWithCopyWarning: \n",
      "A value is trying to be set on a copy of a slice from a DataFrame\n",
      "\n",
      "See the caveats in the documentation: https://pandas.pydata.org/pandas-docs/stable/user_guide/indexing.html#returning-a-view-versus-a-copy\n",
      "  df['genres'][ df['genres'] == '[]' ] = df['genres'][ df['genres'] == '[]' ].str.replace('[]',mode_of_genres)\n"
     ]
    }
   ],
   "source": [
    "df['genres'][ df['genres'] == '[]' ].value_counts()\n",
    "# Here we can see that we were not able to filter out these null values using the previous approach.\n",
    "# We had to manually go through the data and find out these issues with the data.\n",
    "mode_of_genres = df['genres'].mode().iloc[0]\n",
    "mode_of_genres\n",
    "df['genres'][ df['genres'] == '[]' ] = df['genres'][ df['genres'] == '[]' ].str.replace('[]',mode_of_genres)"
   ]
  },
  {
   "cell_type": "code",
   "execution_count": 18,
   "id": "f8d2db56",
   "metadata": {},
   "outputs": [
    {
     "name": "stderr",
     "output_type": "stream",
     "text": [
      "<ipython-input-18-64fdcf4b77fb>:6: SettingWithCopyWarning: \n",
      "A value is trying to be set on a copy of a slice from a DataFrame\n",
      "\n",
      "See the caveats in the documentation: https://pandas.pydata.org/pandas-docs/stable/user_guide/indexing.html#returning-a-view-versus-a-copy\n",
      "  df['production_countries'][ df['production_countries'] == '[]' ] = df['production_countries'][ df['production_countries'] == '[]' ].str.replace('[]',mode_of_genres)\n"
     ]
    }
   ],
   "source": [
    "df['production_countries'][ df['production_countries'] == '[]' ].value_counts()\n",
    "# Here we can see that we were not able to filter out these null values using the previous approach.\n",
    "# We had to manually go through the data and find out these issues with the data.\n",
    "mode_of_genres = df['production_countries'].mode().iloc[0]\n",
    "mode_of_genres\n",
    "df['production_countries'][ df['production_countries'] == '[]' ] = df['production_countries'][ df['production_countries'] == '[]' ].str.replace('[]',mode_of_genres)"
   ]
  },
  {
   "cell_type": "markdown",
   "id": "62ab7d15",
   "metadata": {},
   "source": [
    "3. Handling Duplicate Values"
   ]
  },
  {
   "cell_type": "code",
   "execution_count": 19,
   "id": "af55dd9f",
   "metadata": {},
   "outputs": [
    {
     "data": {
      "text/plain": [
       "(9871, 13)"
      ]
     },
     "execution_count": 19,
     "metadata": {},
     "output_type": "execute_result"
    }
   ],
   "source": [
    "df.shape"
   ]
  },
  {
   "cell_type": "code",
   "execution_count": 20,
   "id": "d6396a1a",
   "metadata": {},
   "outputs": [],
   "source": [
    "df.drop_duplicates(inplace=True)"
   ]
  },
  {
   "cell_type": "code",
   "execution_count": 21,
   "id": "720c927e",
   "metadata": {},
   "outputs": [
    {
     "data": {
      "text/plain": [
       "(9868, 13)"
      ]
     },
     "execution_count": 21,
     "metadata": {},
     "output_type": "execute_result"
    }
   ],
   "source": [
    "df.shape"
   ]
  },
  {
   "cell_type": "markdown",
   "id": "61c6fdfd",
   "metadata": {},
   "source": [
    "4. Handling Mismatch in Data Types"
   ]
  },
  {
   "cell_type": "code",
   "execution_count": 22,
   "id": "9165f8b9",
   "metadata": {},
   "outputs": [],
   "source": [
    "df['release_year'] = pd.to_datetime( df['release_year'], format = '%Y' ).dt.year"
   ]
  },
  {
   "cell_type": "code",
   "execution_count": 23,
   "id": "02562fee",
   "metadata": {},
   "outputs": [
    {
     "data": {
      "text/plain": [
       "0    1934\n",
       "1    1926\n",
       "2    1946\n",
       "3    1940\n",
       "4    1950\n",
       "Name: release_year, dtype: int32"
      ]
     },
     "execution_count": 23,
     "metadata": {},
     "output_type": "execute_result"
    }
   ],
   "source": [
    "df['release_year'].head()"
   ]
  },
  {
   "cell_type": "markdown",
   "id": "1a7a4025",
   "metadata": {},
   "source": [
    "# Saving the cleaned data"
   ]
  },
  {
   "cell_type": "code",
   "execution_count": 24,
   "id": "8e921750",
   "metadata": {},
   "outputs": [],
   "source": [
    "df.to_csv(r'C:\\Users\\Mangesh\\Desktop\\1 month\\Projects\\OTT Platform Business Analysis\\Dataset\\cleaned_dataset.csv' , index = False)"
   ]
  }
 ],
 "metadata": {
  "kernelspec": {
   "display_name": "Python 3",
   "language": "python",
   "name": "python3"
  },
  "language_info": {
   "codemirror_mode": {
    "name": "ipython",
    "version": 3
   },
   "file_extension": ".py",
   "mimetype": "text/x-python",
   "name": "python",
   "nbconvert_exporter": "python",
   "pygments_lexer": "ipython3",
   "version": "3.8.10"
  }
 },
 "nbformat": 4,
 "nbformat_minor": 5
}
